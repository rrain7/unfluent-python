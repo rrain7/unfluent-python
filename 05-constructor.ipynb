{
 "cells": [
  {
   "cell_type": "markdown",
   "metadata": {},
   "source": [
    "# 5. 数据类构建器"
   ]
  },
  {
   "cell_type": "markdown",
   "metadata": {},
   "source": [
    "> Python 提供了几种构建**简单类**的方法, 这些类只是 <mark>字段</mark> 的容器，几乎没有额外功能。这种模式称为「数据类」(data class)"
   ]
  },
  {
   "cell_type": "markdown",
   "metadata": {},
   "source": [
    "以下三种<mark>类构建器</mark>可简化「数据构建类」的构建过程\n",
    "- `collections.namedtuple`\n",
    "- `typing.NamedTuple`\n",
    "- `@dataclasses.dataclass`\n",
    "    - 与前两种方式相比，可定制的内容更多，增加了大量选项，可以实现更复杂的功能，从 Python3.7 开始提供"
   ]
  },
  {
   "cell_type": "markdown",
   "metadata": {},
   "source": [
    "> 本章介绍完这些类构建器之后，会讨论为什么数据类模式是一种代码异味，它的出现可能意味着面向对象设计欠缺"
   ]
  },
  {
   "cell_type": "markdown",
   "metadata": {},
   "source": [
    "## 5.2 数据类构建器的概述"
   ]
  },
  {
   "cell_type": "markdown",
   "metadata": {},
   "source": [
    "一个表示地理位置经纬度的简单类"
   ]
  },
  {
   "cell_type": "code",
   "execution_count": 1,
   "metadata": {},
   "outputs": [],
   "source": [
    "class Coordinate:\n",
    "    def __init__(self, lat, lon):\n",
    "        self.lat = lat\n",
    "        self.lon = lon"
   ]
  },
  {
   "cell_type": "markdown",
   "metadata": {},
   "source": [
    "- `Coordinate` 类的作用是保存经纬度属性\n",
    "- 为 `__init__` 方法编写样板代码容易乏味，尤其属性多的时候（每一个属性都要写3次【函数签名、self 中两次】）\n",
    "- 更糟的是，样板代码没有给我们提供 Python 对象都有的基本功能"
   ]
  },
  {
   "cell_type": "code",
   "execution_count": 3,
   "metadata": {},
   "outputs": [
    {
     "name": "stdout",
     "output_type": "stream",
     "text": [
      "<__main__.Coordinate object at 0x1053f7490>\n",
      "False\n",
      "True\n"
     ]
    }
   ],
   "source": [
    "moscow = Coordinate(55.751244, 37.618423)\n",
    "print(moscow) # *1\n",
    "\n",
    "location = Coordinate(55.751244, 37.618423)\n",
    "\n",
    "print(moscow == location) # *2\n",
    "print((location.lat, location.lon) == (moscow.lat, moscow.lon)) # *3"
   ]
  },
  {
   "cell_type": "markdown",
   "metadata": {},
   "source": [
    "上面代码中注释标记处\n",
    "\n",
    "*1 继承 object 的 `__repr__` 的作用不大\n",
    "\n",
    "*2 `==` 没有意义，因为继承自 `object` 的 `__eq__` 方法比较对象的 ID\n",
    "\n",
    "*3 相比较两个地理位置的经纬度，只能一一比较各个属性"
   ]
  },
  {
   "cell_type": "markdown",
   "metadata": {},
   "source": [
    "> 数据类构建器自动提供必要的 `__init__`, `__repr__`, `__eq__`等方法，还有别的有用的功能"
   ]
  },
  {
   "cell_type": "markdown",
   "metadata": {},
   "source": [
    "<span style=\"color:green\"> 本章的类构建器都不依赖继承。\n",
    "\n",
    "- `collections.namedtuple` 和 `typing.NamedTuple`构建的类都是 tuple 的子类\n",
    "- `@dataclass` 是类装饰器，不影响类层次结构\n",
    "- 这三个类构建器使用不同的**元编程技术**把方法和数据属性注入要构建的类\n",
    " </span>"
   ]
  },
  {
   "cell_type": "markdown",
   "metadata": {},
   "source": [
    "**使用 `namedtuple` 构建 `Coordinate` 类**\n",
    "\n",
    "- `namedtuple` 是一个工厂方法，使用指定的名称和字段构建 tuple 子类"
   ]
  },
  {
   "cell_type": "code",
   "execution_count": 4,
   "metadata": {},
   "outputs": [
    {
     "name": "stdout",
     "output_type": "stream",
     "text": [
      "True\n",
      "Coordinate(lat=55.751244, lon=37.618423)\n",
      "True\n"
     ]
    }
   ],
   "source": [
    "from collections import namedtuple\n",
    "Coordinate = namedtuple('Coordinate', 'lat lon')\n",
    "\n",
    "print(issubclass(Coordinate, tuple))\n",
    "\n",
    "moscow = Coordinate(55.751244, 37.618423)\n",
    "print(moscow) # *1\n",
    "\n",
    "print(moscow == Coordinate(lat=55.751244, lon=37.618423)) # *2\n"
   ]
  },
  {
   "cell_type": "markdown",
   "metadata": {},
   "source": [
    "*1 有用的 `__repr__`(输出可读的字符串)\n",
    "\n",
    "*2 有意义的 `__eq__`"
   ]
  },
  {
   "cell_type": "markdown",
   "metadata": {},
   "source": [
    "---"
   ]
  },
  {
   "cell_type": "markdown",
   "metadata": {},
   "source": [
    "**`typing.NamedTuple` 还可以为各个字段添加类型注解**"
   ]
  },
  {
   "cell_type": "code",
   "execution_count": 6,
   "metadata": {},
   "outputs": [
    {
     "name": "stdout",
     "output_type": "stream",
     "text": [
      "True\n"
     ]
    },
    {
     "data": {
      "text/plain": [
       "{'lat': float, 'lon': float}"
      ]
     },
     "execution_count": 6,
     "metadata": {},
     "output_type": "execute_result"
    }
   ],
   "source": [
    "import typing\n",
    "\n",
    "# <= 3.5\n",
    "Coordinate = typing.NamedTuple(\n",
    "    'Coordinate', [('lat', float), ('lon', float)]\n",
    ")\n",
    "\n",
    "print(issubclass(Coordinate, tuple))\n",
    "\n",
    "typing.get_type_hints(Coordinate)"
   ]
  },
  {
   "cell_type": "code",
   "execution_count": 7,
   "metadata": {},
   "outputs": [
    {
     "name": "stdout",
     "output_type": "stream",
     "text": [
      "{'lat': <class 'float'>, 'lon': <class 'float'>}\n"
     ]
    }
   ],
   "source": [
    "# >= 3.6 可以使用下面的方式\n",
    "\n",
    "Coordinate = typing.NamedTuple(\n",
    "    'Coordinate', lat=float, lon=float\n",
    ")\n",
    "\n",
    "\n",
    "print(typing.get_type_hints(Coordinate))"
   ]
  },
  {
   "cell_type": "markdown",
   "metadata": {},
   "source": [
    "后面这种方式可读性高，而且可以通过映射指定字段以及其类型，再使用 `**fields_and_types`拆包"
   ]
  },
  {
   "cell_type": "markdown",
   "metadata": {},
   "source": [
    "\n",
    "----\n",
    "\n",
    "3.6 开始，`typing.NamedTuple` 也可以在 `class` 语句中使用，可读性高，而且方便覆盖方法和添加新方法"
   ]
  },
  {
   "cell_type": "code",
   "execution_count": null,
   "metadata": {},
   "outputs": [],
   "source": [
    "from typing import NamedTuple\n",
    "\n",
    "class Coordinate(NamedTuple):\n",
    "    lat: float\n",
    "    lon: float\n",
    "\n",
    "    def __str__(self) -> str:\n",
    "        ns = 'N' if self.lat >= 0 else 'S'\n",
    "        ew = 'E' if self.lon >= 0 else 'W'\n",
    "        return f\"{abs(self.lat):.1f}°{ns} {abs(self.lon):.1f}°{ew}\"\n",
    "    \n",
    "print(issubclass(Coordinate, NamedTuple))"
   ]
  },
  {
   "cell_type": "markdown",
   "metadata": {},
   "source": [
    "上面的这段代码，虽然 `NamedTuple` 出现在超类的位置上，<mark>但其实它并不是超类</mark>\n",
    "\n",
    "<span style=\"color:green\"> `typing.NamedTuple`使用<mark>元类</mark>这一高级功能创建用户类</span>，可以通过下面的代码对其验证"
   ]
  },
  {
   "cell_type": "code",
   "execution_count": 16,
   "metadata": {},
   "outputs": [
    {
     "ename": "TypeError",
     "evalue": "issubclass() arg 2 must be a class, a tuple of classes, or a union",
     "output_type": "error",
     "traceback": [
      "\u001b[0;31m---------------------------------------------------------------------------\u001b[0m",
      "\u001b[0;31mTypeError\u001b[0m                                 Traceback (most recent call last)",
      "Cell \u001b[0;32mIn[16], line 1\u001b[0m\n\u001b[0;32m----> 1\u001b[0m \u001b[39missubclass\u001b[39;49m(Coordinate, NamedTuple) \u001b[39m# False\u001b[39;00m\n",
      "\u001b[0;31mTypeError\u001b[0m: issubclass() arg 2 must be a class, a tuple of classes, or a union"
     ]
    }
   ],
   "source": [
    "issubclass(Coordinate, NamedTuple)"
   ]
  },
  {
   "cell_type": "code",
   "execution_count": 17,
   "metadata": {},
   "outputs": [
    {
     "data": {
      "text/plain": [
       "True"
      ]
     },
     "execution_count": 17,
     "metadata": {},
     "output_type": "execute_result"
    }
   ],
   "source": [
    "issubclass(Coordinate, tuple) # True"
   ]
  },
  {
   "cell_type": "markdown",
   "metadata": {},
   "source": [
    "与 `typing.NamedTuple` 一样，dataclass装饰器也支持声明实例属性，dataclass 装饰器读取变量注解，自动为构建的类生成方法\n"
   ]
  },
  {
   "cell_type": "code",
   "execution_count": 18,
   "metadata": {},
   "outputs": [],
   "source": [
    "from dataclasses import dataclass\n",
    "\n",
    "@dataclass(frozen=True)\n",
    "class Coordinate:\n",
    "    lat: float\n",
    "    lon: float\n",
    "\n",
    "    def __str__(self):\n",
    "        ns = 'N' if self.lat >= 0 else 'S'\n",
    "        ew = 'E' if self.lon >= 0 else 'W'\n",
    "        return f\"{abs(self.lat):.1f}°{ns} {abs(self.lon):.1f}°{ew}\"\n"
   ]
  },
  {
   "cell_type": "markdown",
   "metadata": {},
   "source": [
    "----"
   ]
  },
  {
   "cell_type": "markdown",
   "metadata": {},
   "source": [
    "可以看到，`@dataclass` 装饰器不依赖于继承或者元类"
   ]
  },
  {
   "cell_type": "markdown",
   "metadata": {},
   "source": [
    "---"
   ]
  },
  {
   "cell_type": "markdown",
   "metadata": {},
   "source": [
    "**3个数据类构建器的部分功能**\n",
    "\n",
    "<img src=\"./assets/ch05/3-constructor-func.png\">"
   ]
  },
  {
   "cell_type": "markdown",
   "metadata": {},
   "source": [
    "可以看到，后面两列构建的类有一个`__annotations__`属性，存放字段的类型提示，<mark>然而，不建议直接读取 `__annotations__`属性。</mark>\n",
    "\n",
    "<span style=\"color:green\"> 推荐使用 `inspect.get_annotations(MyClass)` (>=Python3.10) 或者 typing.get_type_hints(MyClass)（3.5 - 3.9）获取类型信息 </span>"
   ]
  },
  {
   "cell_type": "markdown",
   "metadata": {},
   "source": [
    "# TODO"
   ]
  }
 ],
 "metadata": {
  "kernelspec": {
   "display_name": "Python 3",
   "language": "python",
   "name": "python3"
  },
  "language_info": {
   "codemirror_mode": {
    "name": "ipython",
    "version": 3
   },
   "file_extension": ".py",
   "mimetype": "text/x-python",
   "name": "python",
   "nbconvert_exporter": "python",
   "pygments_lexer": "ipython3",
   "version": "3.10.4"
  },
  "orig_nbformat": 4
 },
 "nbformat": 4,
 "nbformat_minor": 2
}
