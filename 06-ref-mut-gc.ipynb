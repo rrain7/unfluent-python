{
 "cells": [
  {
   "cell_type": "markdown",
   "metadata": {},
   "source": [
    "# 6. 引用对象、可变性和垃圾回收"
   ]
  },
  {
   "cell_type": "markdown",
   "metadata": {},
   "source": [
    "## 6.2 变量不是盒子（可以理解成贴标签）"
   ]
  },
  {
   "cell_type": "markdown",
   "metadata": {},
   "source": [
    "Python 变量类似于 Java 中的<mark>引用式变量</mark>, 可以理解为附加在对象上的标注"
   ]
  },
  {
   "cell_type": "markdown",
   "metadata": {},
   "source": [
    "比如下面的代码，变量 a 和 b 引用同一个列表，而不是那个列表的副本"
   ]
  },
  {
   "cell_type": "code",
   "execution_count": 1,
   "metadata": {},
   "outputs": [
    {
     "name": "stdout",
     "output_type": "stream",
     "text": [
      "[1, 2, 3, 4]\n"
     ]
    }
   ],
   "source": [
    "a = [1, 2, 3]   # *1\n",
    "b = a           # *2\n",
    "a.append(4)     # *3\n",
    "print(b)        # *4"
   ]
  },
  {
   "cell_type": "markdown",
   "metadata": {},
   "source": [
    "*1 创建列表 [1, 2, 3], 绑定变量 a\n",
    "*2 变量 b 绑定 a 引用的值\n",
    "*3 修改 a 引用的列表，追加一项\n",
    "*4 如果觉得 b 是一个盒子，存储 a 中 [1, 2, 3] 的副本，那么就说不通了\n",
    "\n",
    "![将变量看成便利贴](./assets/ch06/var.png)"
   ]
  },
  {
   "cell_type": "markdown",
   "metadata": {},
   "source": [
    "<span style=\"color: green\"> `b = a` 语句不是把 a 盒子中的内容复制到 b 盒子中，而是在标注为 a 的对象上再贴一个标注 b</span>"
   ]
  },
  {
   "cell_type": "markdown",
   "metadata": {},
   "source": [
    "对于引用式变量，应该说 <mark>把变量分配给对象更合理</mark>，反过来说就有问题，毕竟，<mark>对象在赋值前就创建了，赋值语句的右边先执行</mark>"
   ]
  },
  {
   "cell_type": "markdown",
   "metadata": {},
   "source": [
    "在 Python 中，赋值语句 `x = ...` 把名称 x 绑定到右边创建或引用的对象上，在绑定名称之前，对象必须存在"
   ]
  },
  {
   "cell_type": "code",
   "execution_count": 2,
   "metadata": {},
   "outputs": [
    {
     "name": "stdout",
     "output_type": "stream",
     "text": [
      "Gizmo id: 4386563024\n",
      "Gizmo id: 4386763984\n"
     ]
    },
    {
     "ename": "TypeError",
     "evalue": "unsupported operand type(s) for *: 'Gizmo' and 'int'",
     "output_type": "error",
     "traceback": [
      "\u001b[0;31m---------------------------------------------------------------------------\u001b[0m",
      "\u001b[0;31mTypeError\u001b[0m                                 Traceback (most recent call last)",
      "\u001b[1;32m/Users/lxl/dev/codes/unfluent-python/06-ref-mut-gc.ipynb Cell 10\u001b[0m line \u001b[0;36m6\n\u001b[1;32m      <a href='vscode-notebook-cell:/Users/lxl/dev/codes/unfluent-python/06-ref-mut-gc.ipynb#X16sZmlsZQ%3D%3D?line=2'>3</a>\u001b[0m         \u001b[39mprint\u001b[39m(\u001b[39mf\u001b[39m\u001b[39m\"\u001b[39m\u001b[39mGizmo id: \u001b[39m\u001b[39m{\u001b[39;00m\u001b[39mid\u001b[39m(\u001b[39mself\u001b[39m)\u001b[39m}\u001b[39;00m\u001b[39m\"\u001b[39m)\n\u001b[1;32m      <a href='vscode-notebook-cell:/Users/lxl/dev/codes/unfluent-python/06-ref-mut-gc.ipynb#X16sZmlsZQ%3D%3D?line=4'>5</a>\u001b[0m x \u001b[39m=\u001b[39m Gizmo()\n\u001b[0;32m----> <a href='vscode-notebook-cell:/Users/lxl/dev/codes/unfluent-python/06-ref-mut-gc.ipynb#X16sZmlsZQ%3D%3D?line=5'>6</a>\u001b[0m y \u001b[39m=\u001b[39m Gizmo() \u001b[39m*\u001b[39;49m \u001b[39m10\u001b[39;49m\n",
      "\u001b[0;31mTypeError\u001b[0m: unsupported operand type(s) for *: 'Gizmo' and 'int'"
     ]
    }
   ],
   "source": [
    "class Gizmo:\n",
    "    def __init__(self) -> str:\n",
    "        print(f\"Gizmo id: {id(self)}\")\n",
    "        \n",
    "x = Gizmo()\n",
    "y = Gizmo() * 10"
   ]
  },
  {
   "cell_type": "code",
   "execution_count": 3,
   "metadata": {},
   "outputs": [
    {
     "data": {
      "text/plain": [
       "['Gizmo',\n",
       " 'In',\n",
       " 'Out',\n",
       " '_',\n",
       " '__',\n",
       " '___',\n",
       " '__builtin__',\n",
       " '__builtins__',\n",
       " '__doc__',\n",
       " '__loader__',\n",
       " '__name__',\n",
       " '__package__',\n",
       " '__spec__',\n",
       " '__vsc_ipynb_file__',\n",
       " '_dh',\n",
       " '_i',\n",
       " '_i1',\n",
       " '_i2',\n",
       " '_i3',\n",
       " '_ih',\n",
       " '_ii',\n",
       " '_iii',\n",
       " '_oh',\n",
       " 'a',\n",
       " 'b',\n",
       " 'exit',\n",
       " 'get_ipython',\n",
       " 'open',\n",
       " 'quit',\n",
       " 'x']"
      ]
     },
     "execution_count": 3,
     "metadata": {},
     "output_type": "execute_result"
    }
   ],
   "source": [
    "dir()"
   ]
  },
  {
   "cell_type": "markdown",
   "metadata": {},
   "source": [
    "在乘法运算中使用 Gizmo 实例会抛出异常，但是还是会打印 y 的 ID，所以表明在尝试求积之前其实会创建一个新的 Gizmo 实例\n",
    "\n",
    "但是没有创建变量 y，因为在求解赋值语句的右边时抛出了异常"
   ]
  },
  {
   "cell_type": "markdown",
   "metadata": {},
   "source": [
    "<span style=\"color: green\"> 为了理解 Python 中的赋值语句，应该始终先读右边。对象先走右边创建或获取，然后左边的变量才会绑定到对象上，就像给对象贴上标签一样 </span>"
   ]
  },
  {
   "cell_type": "markdown",
   "metadata": {},
   "source": [
    "## 6.3 同一性、相等性和别名"
   ]
  },
  {
   "cell_type": "code",
   "execution_count": 5,
   "metadata": {},
   "outputs": [
    {
     "name": "stdout",
     "output_type": "stream",
     "text": [
      "True\n",
      "4392347392 4392347392\n",
      "{'name': 'Charles', 'age': 30, 'balance': 1000}\n"
     ]
    }
   ],
   "source": [
    "charles = {'name': 'Charles', 'age': 30}\n",
    "lewis = charles # *1\n",
    "\n",
    "print(lewis is charles)\n",
    "\n",
    "print(id(charles), id(lewis)) # *2\n",
    "\n",
    "lewis['balance'] = 1000 # *3\n",
    "print(charles)"
   ]
  },
  {
   "cell_type": "markdown",
   "metadata": {},
   "source": [
    "*1 lewis 是 charles 的别名\n",
    "\n",
    "*2 `is` 和 `id` 确认了这一点\n",
    "\n",
    "*3 向 lewis 中添加一项相当于向 charles 中添加一项"
   ]
  },
  {
   "cell_type": "markdown",
   "metadata": {},
   "source": [
    "如果有一个冒充者变量，与上面的变量具有相同的内容"
   ]
  },
  {
   "cell_type": "code",
   "execution_count": 6,
   "metadata": {},
   "outputs": [
    {
     "name": "stdout",
     "output_type": "stream",
     "text": [
      "True\n",
      "True\n"
     ]
    }
   ],
   "source": [
    "alex = {'name': 'Charles', 'age': 30, 'balance': 1000}  # *1\n",
    "\n",
    "print(alex == charles)  # *2\n",
    "print(alex is not charles)  # *3"
   ]
  },
  {
   "cell_type": "markdown",
   "metadata": {},
   "source": [
    "经过比较，alex 和 charles 相等，但 alex 绝对不是 charles\n",
    "\n",
    "*1 alex 指代的对象与分配给 charles 的对象内容一样\n",
    "\n",
    "*2 比较两个对象，结果相等，<mark>这是因为 dict 类的 `__eq__` 方法就是这样实现的 </mark>\n",
    "\n",
    "*3 但它们是不同的对象，在 Python 中，使用 `a is not b` 判断两个对象的标识是否不通"
   ]
  },
  {
   "cell_type": "markdown",
   "metadata": {},
   "source": [
    "lewis 和 charles 是别名，两个变量绑定同一个对象，而 alex 不是 charles的别名，因为二者绑定的是不同的对象\n",
    "\n",
    "alex 和 charles 绑定的对象具有相同的值，但是它们的标识不同"
   ]
  },
  {
   "cell_type": "markdown",
   "metadata": {},
   "source": [
    "> - id() 最常用于调试\n",
    ">\n",
    "> - id()函数在实际编程中很少使用，对象的标识最常使用 is 运算符比较，无须直接调用 id() 函数"
   ]
  },
  {
   "cell_type": "markdown",
   "metadata": {},
   "source": [
    "> `==` 运算符比较两个对象的值，而 `is` 比较对象的标识\n",
    ">\n",
    "> 编程时，通常关注的是值，而不是标识，所以在 Python 中 `==` 出现的频率更高\n",
    ">\n",
    "> 比较一个变量和一个单例时，应该使用 `is`。目前最常使用 is 检查变量绑定的值是不是 `None`"
   ]
  },
  {
   "cell_type": "markdown",
   "metadata": {},
   "source": [
    "`is` 运算符比 `==` 速度快，因为不能重载，直接比较两个整数 ID\n",
    "\n",
    "`a == b` 其实是语法糖，等同于 `a.__eq__(b)`，继承自 `object` 的 `__eq__` 方法比较两个对象的ID"
   ]
  },
  {
   "cell_type": "markdown",
   "metadata": {},
   "source": [
    "元组和多数 Python 容器（列表、字典、集合等）一样，存储的是对象的引用，若引用的项是可变的，<mark> 即使是元组本身不可变，项依旧可以更改 </mark>\n",
    "\n",
    "<span style=\"color: green\"> 元组的不可变其实是指 tuple 数据结构的物理内容（存储的引用）不可变，与引用的对象无关 </span>"
   ]
  },
  {
   "cell_type": "code",
   "execution_count": 7,
   "metadata": {},
   "outputs": [
    {
     "name": "stdout",
     "output_type": "stream",
     "text": [
      "True\n",
      "4392167936 4392160128\n",
      "4392096576\n",
      "(1, 2, [30, 40, 99])\n",
      "4392096576\n",
      "False\n"
     ]
    }
   ],
   "source": [
    "t1 = (1, 2, [30, 40])       # *1\n",
    "t2 = (1, 2, [30, 40])       # *2\n",
    "print(t1 == t2)             # *3\n",
    "print(id(t1), id(t2))\n",
    "\n",
    "print(id(t1[-1]))           # *4\n",
    "t1[-1].append(99)           # *5\n",
    "print(t1)\n",
    "\n",
    "print(id(t1[-1]))           # *6\n",
    "\n",
    "print(t1 == t2)             # *7"
   ]
  },
  {
   "cell_type": "markdown",
   "metadata": {},
   "source": [
    "*1 t1 不可变，但是 t1[-1] 可变\n",
    "\n",
    "*2 构建元组 t2, 所含的项与 t1 一样\n",
    "\n",
    "*3 虽然 t1 和 t2 是不同的对象，但是二者相等\n",
    "\n",
    "*4 t1[-1] 的 ID 是 4392096576\n",
    "\n",
    "*5 就地修改 t1[-1]\n",
    "\n",
    "*6 t1[-1]的标识没变，只是值变了\n",
    "\n",
    "*7 t1 和 t2 不相等"
   ]
  },
  {
   "cell_type": "markdown",
   "metadata": {},
   "source": [
    "## 6.4 默认做浅拷贝"
   ]
  },
  {
   "cell_type": "markdown",
   "metadata": {},
   "source": [
    "<mark>复制列表（或多数内置的可变容器）最简单的方式是使用内置的类型构造函数</mark>"
   ]
  },
  {
   "cell_type": "code",
   "execution_count": 8,
   "metadata": {},
   "outputs": [
    {
     "name": "stdout",
     "output_type": "stream",
     "text": [
      "[3, [55, 44], (7, 8, 9)]\n",
      "True\n",
      "False\n"
     ]
    }
   ],
   "source": [
    "l1 = [3, [55, 44], (7, 8, 9)]\n",
    "l2 = list(l1)\n",
    "print(l2)\n",
    "print(l1 == l2)\n",
    "print(l1 is l2)"
   ]
  },
  {
   "cell_type": "markdown",
   "metadata": {},
   "source": [
    "`list(l1)` 创建 l1 的副本\n",
    "\n",
    "虽然两者的值相等，但是二者指代不同的对象"
   ]
  },
  {
   "cell_type": "markdown",
   "metadata": {},
   "source": [
    "<span style=\"color: green\"> 对列表和其他可变序列来说，还可以使用简洁的 `l2 = l1[:]` 语句创建副本 </span>"
   ]
  },
  {
   "cell_type": "markdown",
   "metadata": {},
   "source": [
    "构造函数或者 [:] 做的是浅拷贝\n",
    "\n",
    "- <mark> 浅拷贝</mark>：复制最外层容器，副本中的项是源容器中项的引用\n",
    "    - 若所有的项都是不可变的，那么这种行为没问题，还能节省内存\n",
    "    - 若有可变项，可能存在问题"
   ]
  },
  {
   "cell_type": "markdown",
   "metadata": {},
   "source": [
    "具体的代码可以点击[此链接](https://pythontutor.com/render.html#code=l1%20%3D%20%5B3,%20%5B66,%2055,%2044%5D,%20%287,%208,%209%29%5D%0Al2%20%3D%20l1%5B%3A%5D%0A%0Al1.append%28100%29%0Al1%5B1%5D.remove%2855%29%0A%0Aprint%28f'l1%3A%20%7Bl1%7D'%29%0Aprint%28f'l2%3A%20%7Bl2%7D'%29%0A%0Al2%5B1%5D%20%2B%3D%20%5B33,%2022%5D%0Al2%5B2%5D%20%2B%3D%20%2810,%2011%29%0A%0Aprint%28f'l1%3A%20%7Bl1%7D'%29%0Aprint%28f'l2%3A%20%7Bl2%7D'%29&cumulative=false&curInstr=10&heapPrimitives=nevernest&mode=display&origin=opt-frontend.js&py=311&rawInputLstJSON=%5B%5D&textReferences=false)"
   ]
  },
  {
   "cell_type": "markdown",
   "metadata": {},
   "source": [
    "![copy](./assets/ch06/copy.png)"
   ]
  },
  {
   "cell_type": "markdown",
   "metadata": {},
   "source": [
    "l2 是 l1 的浅拷贝，只拷贝了最外层，所以对 l1[1] 进行操作会对 l2 产生影响，因为两者绑定的都是同一个对象\n",
    "\n",
    "- 对可变的对象来说，比如引用的列表 `+=` 运算符就地修改列表\n",
    "- 对于不可变对象，如元组，`+=`运算符创建一个新的元组，重新绑定变量"
   ]
  },
  {
   "cell_type": "markdown",
   "metadata": {},
   "source": [
    "`copy` 模块提供 `copy` 和 `deepcopy` 函数分别为任意对象做浅拷贝和深拷贝"
   ]
  },
  {
   "cell_type": "markdown",
   "metadata": {},
   "source": [
    "## 6.5 函数的参数是引用时"
   ]
  },
  {
   "cell_type": "markdown",
   "metadata": {},
   "source": [
    "Python 唯一支持的参数传递模式是<mark>共享传参</mark>\n",
    "\n",
    "- 共享传参指的是函数的形参获得实参引用的副本\n",
    "- 函数内部的形参是实参的别名\n",
    "- 所以，函数可能会修改作为参数传入的可变对象，但是不能修改对象的标识"
   ]
  },
  {
   "cell_type": "code",
   "execution_count": 9,
   "metadata": {},
   "outputs": [
    {
     "name": "stdout",
     "output_type": "stream",
     "text": [
      "3\n",
      "1 2\n",
      "[1, 2, 3, 4]\n",
      "[1, 2, 3, 4] [3, 4]\n",
      "(10, 20, 30, 40)\n"
     ]
    }
   ],
   "source": [
    "def f(a, b):\n",
    "    a += b\n",
    "    return a\n",
    "\n",
    "x, y = 1, 2\n",
    "\n",
    "print(f(x, y))\n",
    "print(x, y)     # *1\n",
    "\n",
    "a = [1, 2]\n",
    "b = [3, 4]\n",
    "print(f(a, b))\n",
    "print(a, b)     # *2\n",
    "\n",
    "t = (10, 20)\n",
    "u = (30, 40)\n",
    "print(f(t, u))  # *3"
   ]
  },
  {
   "cell_type": "markdown",
   "metadata": {},
   "source": [
    "*1 数值 x 没变\n",
    "\n",
    "*2 列表 a 变了\n",
    "\n",
    "*3 元组 t 没变"
   ]
  },
  {
   "cell_type": "markdown",
   "metadata": {},
   "source": [
    "### 不要使用可变类型作为参数的默认值"
   ]
  },
  {
   "cell_type": "markdown",
   "metadata": {},
   "source": [
    "<mark>可选参数可以有默认值，但是应该避免使用可变的对象作为参数的默认值</mark>"
   ]
  },
  {
   "cell_type": "code",
   "execution_count": 11,
   "metadata": {},
   "outputs": [],
   "source": [
    "class HauntedBus:\n",
    "    def __init__(self, passengers=[]):      # *1\n",
    "        self.passengers = passengers        # *2\n",
    "    \n",
    "    def pick(self, name):\n",
    "        self.passengers.append(name)       # *3\n",
    "        \n",
    "    def drop(self, name):\n",
    "        self.passengers.remove(name)"
   ]
  },
  {
   "cell_type": "markdown",
   "metadata": {},
   "source": [
    "*1  若没有传入 passengers 参数，则绑定默认的列表对象\n",
    "\n",
    "*2 `self.passengers` 是 `passengers` 的别名，没有提供 passengers 参数时，passengers 是默认列表的别名\n",
    "\n",
    "*3 调用 `.remove` 和 `.append` 方法，修改的其实是默认列表"
   ]
  },
  {
   "cell_type": "markdown",
   "metadata": {},
   "source": [
    "**一个诡异的行为**"
   ]
  },
  {
   "cell_type": "code",
   "execution_count": 12,
   "metadata": {},
   "outputs": [
    {
     "name": "stdout",
     "output_type": "stream",
     "text": [
      "['Alice', 'Bob']\n",
      "['Bob', 'Charlie']\n",
      "['Dan']\n",
      "['Dan']\n",
      "['Dan', 'Eve']\n",
      "True\n"
     ]
    }
   ],
   "source": [
    "bus1 = HauntedBus(['Alice', 'Bob'])     # *1\n",
    "print(bus1.passengers)\n",
    "\n",
    "bus1.pick('Charlie')\n",
    "bus1.drop('Alice')\n",
    "print(bus1.passengers)      # *2\n",
    "\n",
    "bus2 = HauntedBus()         # *3\n",
    "bus2.pick('Dan')\n",
    "print(bus2.passengers)\n",
    "\n",
    "bus3 = HauntedBus()         # *4\n",
    "print(bus3.passengers)      # *5\n",
    "bus3.pick('Eve')\n",
    "\n",
    "print(bus2.passengers)      # *6\n",
    "\n",
    "print(bus3.passengers is bus2.passengers)   # *7\n",
    "print(bus1.passengers)      # *8"
   ]
  },
  {
   "cell_type": "markdown",
   "metadata": {},
   "source": [
    "*1 一开始，bus1 有两个乘客\n",
    "\n",
    "*2 行为是正常的\n",
    "\n",
    "*3 bus2 是空的，使用默认值，分配了一个空列表\n",
    "\n",
    "*4 bus3 一开始也是空的，分配默认列表\n",
    "\n",
    "*5 bus3 不为空！应该出现在 bus2 的 Dan 出现在了 bus3 上\n",
    "\n",
    "*6 登上了 bus3 的 Eve 出现在了 bus2 上\n",
    "\n",
    "*7 bus2.passengers 和 bus3.passengers 是同一个列表\n",
    "\n",
    "*8 但 bus1.passengers 是不同的列表"
   ]
  },
  {
   "cell_type": "markdown",
   "metadata": {},
   "source": [
    "<mark> 问题是，没有指定初始化乘客的 HauntedBus 实例共享了同一个乘客列表\n",
    "\n",
    "这种问题很难发现，如果传入了参数，则一切正常，否则，就会出现问题。\n",
    "\n",
    "若没传入参数，默认值就会成为函数对象的属性，当默认值是可变对象，并且修改了它的值，那么后续的函数调用都会受到影响\n",
    "\n",
    "<span style=\"color: green\"> 可变默认值导致的问题说明了为什么通常使用 None 作为接收可变值的默认参数的默认值 </sapn>"
   ]
  },
  {
   "cell_type": "markdown",
   "metadata": {},
   "source": [
    "可以进行如下的修改"
   ]
  },
  {
   "cell_type": "code",
   "execution_count": null,
   "metadata": {},
   "outputs": [],
   "source": [
    "class HauntedBus:\n",
    "    def __init__(self, passengers=None):\n",
    "        if passengers is None:\n",
    "            self.passengers = []\n",
    "        else:\n",
    "            self.passengers = list(passengers)\n",
    "    \n",
    "    def pick(self, name):\n",
    "        self.passengers.append(name)\n",
    "        \n",
    "    def drop(self, name):\n",
    "        self.passengers.remove(name)"
   ]
  },
  {
   "cell_type": "markdown",
   "metadata": {},
   "source": [
    "### 防御可变参数"
   ]
  },
  {
   "cell_type": "markdown",
   "metadata": {},
   "source": [
    "若定义的函数接收可变可变参数，应该谨慎考虑调用方是否期望修改传入的参数"
   ]
  },
  {
   "cell_type": "markdown",
   "metadata": {},
   "source": [
    "比如：若函数接收一个字典，而且在处理的过程中要修改它，那么这个副作用要不要体现在函数外部？"
   ]
  },
  {
   "cell_type": "code",
   "execution_count": null,
   "metadata": {},
   "outputs": [],
   "source": [
    "class TwilightBus:\n",
    "    \"\"\"让乘客销声匿迹的校车\"\"\"\n",
    "    def __init__(self, passengers=None):\n",
    "        if passengers is None:\n",
    "            self.passengers = []            # *1\n",
    "        else:\n",
    "            self.passengers = passengers    # *2\n",
    "            \n",
    "    def pick(self, name):\n",
    "        self.passengers.append(name)\n",
    "        \n",
    "    def drop(self, name):\n",
    "        self.passengers.remove(name)        # *3"
   ]
  },
  {
   "cell_type": "markdown",
   "metadata": {},
   "source": [
    "*1 当 passengers 为 None，创建一个新列表\n",
    "\n",
    "*2 `self.passengers = passengers` 这个赋值语句把 `self.passengers` 变成了 `passengers` 的别名，而后者是传给 `__init__` 方法的实参的别名\n",
    "\n",
    "*3 在 `self.passengers` 上调用 `.remove()` 和 `.append()` 方法，其实会修改传给构造函数的列表"
   ]
  },
  {
   "cell_type": "markdown",
   "metadata": {},
   "source": [
    "正确做法是：校车自己维护乘客列表"
   ]
  },
  {
   "cell_type": "code",
   "execution_count": null,
   "metadata": {},
   "outputs": [],
   "source": [
    "class TwilightBus:\n",
    "    \"\"\"让乘客销声匿迹的校车\"\"\"\n",
    "    def __init__(self, passengers=None):\n",
    "        if passengers is None:\n",
    "            self.passengers = []            \n",
    "        else:\n",
    "            self.passengers = list(passengers)  # *1"
   ]
  },
  {
   "cell_type": "markdown",
   "metadata": {},
   "source": [
    "*1 创建 passengers 列表的副本，如果不是列表，就把它转换为列表"
   ]
  },
  {
   "cell_type": "markdown",
   "metadata": {},
   "source": [
    "这种方式不会影响初始化校车传入的参数，而且还有一个好处是更加灵活\n",
    "- 传给 passengers 参数的值可以是元组hove任何其他可迭代对象，如 set，甚至数据库查询结果，因为 list 构造函数可以接收任何可迭代对象\n",
    "- 自己创建并管理列表，可以确保 `.remove()` 和 `.append()` 操作正常执行"
   ]
  },
  {
   "cell_type": "markdown",
   "metadata": {},
   "source": [
    "> 除非方法确实想修改通过参数传入的对象，否则在类中直接把参数赋值给实例变量之前一定要三思\n",
    ">\n",
    "> 如果不确定，那么就创建副本，虽然会消耗一定的 CPU 和内存，但是与速度和资源相比，难以察觉的 bug 更是严重的问题"
   ]
  },
  {
   "cell_type": "markdown",
   "metadata": {},
   "source": [
    "## del 和垃圾回收"
   ]
  },
  {
   "cell_type": "markdown",
   "metadata": {},
   "source": [
    "del 是函数而不是语句\n",
    "\n",
    "`del x` 和 `del(x)` 一样仅仅是因为在 Python 中，`x` 和 `(x)` 表达式往往是一样的\n",
    "\n",
    "del 删除引用，而不是对象，del 可能导致对象被当作垃圾回收"
   ]
  },
  {
   "cell_type": "markdown",
   "metadata": {},
   "source": [
    "特殊方法 `__del__` 不负责销毁实例，而且不应该在代码中调用\n",
    "\n",
    "`__del__` 方法不好实现，往往出力不讨好"
   ]
  },
  {
   "cell_type": "markdown",
   "metadata": {},
   "source": [
    "> A. Jesse Jiryu Davis 写的“PyPy, Garbage Collection, and a Deadlock”一文对 __del__ 方法的恰当用法和不当用法做了讨论"
   ]
  },
  {
   "cell_type": "markdown",
   "metadata": {},
   "source": [
    "## Python 对不可变类型施加的把戏"
   ]
  },
  {
   "cell_type": "markdown",
   "metadata": {},
   "source": [
    "...(略过"
   ]
  },
  {
   "cell_type": "markdown",
   "metadata": {},
   "source": [
    "## 延伸阅读"
   ]
  },
  {
   "cell_type": "markdown",
   "metadata": {},
   "source": [
    "> Wesley Chun 在 EuroPython 2011 会上所做的演讲“Understanding Python's Memory Model, Mutability, and Methods”不仅涵盖了本章的主题，还讨论了特殊方法的使用\n",
    ">\n",
    "> 在《Python 开发者指南》中，Pablo Galindo 写的“Design of CPython's Garbage Collector”一文深入探讨了 Python 的垃圾回收机制，方便不同层次的贡献者了解 CPython 的实现，无论是新手还是老手"
   ]
  }
 ],
 "metadata": {
  "kernelspec": {
   "display_name": "Python 3",
   "language": "python",
   "name": "python3"
  },
  "language_info": {
   "codemirror_mode": {
    "name": "ipython",
    "version": 3
   },
   "file_extension": ".py",
   "mimetype": "text/x-python",
   "name": "python",
   "nbconvert_exporter": "python",
   "pygments_lexer": "ipython3",
   "version": "3.11.1"
  },
  "orig_nbformat": 4
 },
 "nbformat": 4,
 "nbformat_minor": 2
}
