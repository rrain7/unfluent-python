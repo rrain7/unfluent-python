{
 "cells": [
  {
   "cell_type": "markdown",
   "metadata": {},
   "source": [
    "# 8. 类型提示"
   ]
  },
  {
   "cell_type": "markdown",
   "metadata": {},
   "source": [
    "编写类型提示时建议遵守以下代码风格\n",
    "- 参数名称和 `:` 之间不留空格，`:` 后加一个空格\n",
    "- 参数默认值前面的 `=` 两侧加空格\n",
    "- 根据 PEP8，除参数默认值前面的 `=` 之外，其它 `=` 两侧不加空格"
   ]
  },
  {
   "cell_type": "markdown",
   "metadata": {},
   "source": [
    "可以使用 flake8 报告代码中的问题（但是我选ruff），\n",
    "\n",
    "使用 blue 来进行格式化代码，black虽然可以格式化，但是不如 blue 遵守 Python 自身的风格，默认使用单引号，将双引号作为备选（这次我还是用 ruff）"
   ]
  },
  {
   "cell_type": "code",
   "execution_count": 2,
   "metadata": {},
   "outputs": [
    {
     "data": {
      "text/plain": [
       "'I perfer single quotes'"
      ]
     },
     "execution_count": 2,
     "metadata": {},
     "output_type": "execute_result"
    }
   ],
   "source": [
    "\"I perfer single quotes\""
   ]
  },
  {
   "cell_type": "markdown",
   "metadata": {},
   "source": [
    "如果必须使用 black, 那么请使用 `black -S` 选项，保持引号原封不动"
   ]
  },
  {
   "cell_type": "markdown",
   "metadata": {},
   "source": [
    "---"
   ]
  },
  {
   "cell_type": "markdown",
   "metadata": {},
   "source": [
    "### 使用 None 表示默认值"
   ]
  },
  {
   "cell_type": "markdown",
   "metadata": {},
   "source": [
    "如果可选的参数是一个可变类型，那么使用 None 是唯一合理的默认值\n",
    "\n",
    "大部分情况下，使用 None 作为默认值更好"
   ]
  },
  {
   "cell_type": "markdown",
   "metadata": {},
   "source": [
    "如果想把 plural 参数的默认值设置为 None, 则函数的签名要改成下面这样："
   ]
  },
  {
   "cell_type": "code",
   "execution_count": 3,
   "metadata": {},
   "outputs": [],
   "source": [
    "from typing import Optional\n",
    "\n",
    "def show_count(count: int, singular: str, plural: Optional[str] = None) -> str:\n",
    "    return f\"{count}, {singular}, {plural}\"\n",
    "    "
   ]
  },
  {
   "cell_type": "markdown",
   "metadata": {},
   "source": [
    "- Optional[str] = None 表示可选参数的默认值是 None\n",
    "- 必须显式提供默认值，即 `=None`"
   ]
  },
  {
   "cell_type": "markdown",
   "metadata": {},
   "source": [
    "## 注解中可用的类型\n",
    "\n",
    "- `typing.Any`\n",
    "- `简单的类型和类`\n",
    "- `typing.Optional` 和 `typing.Union`\n",
    "- 泛化容器，包括元组和映射\n",
    "- 抽象基类\n",
    "- 泛化可迭代对象\n",
    "- 参数化泛型和 `TypeVar`\n",
    "- `typing.Protocols` -- 静态鸭子类型的关键\n",
    "- `typing.Callable`\n",
    "- `typing.NoReturn`"
   ]
  },
  {
   "cell_type": "markdown",
   "metadata": {},
   "source": [
    "### Any 类型\n",
    "\n",
    "Any 类型是渐进式类型系统的基础，是动态类型\n",
    "\n",
    "比如：\n",
    "```python\n",
    "def double(x):\n",
    "    return x * 2\n",
    "```\n",
    "\n",
    "在类型检查工具来看，假定的类型信息如下：\n",
    "\n",
    "```python\n",
    "def double(x: Any) -> Any:\n",
    "    return x * 2\n",
    "```"
   ]
  },
  {
   "cell_type": "markdown",
   "metadata": {},
   "source": [
    "渐进式类型系统中有一种关系：**相容**。\n",
    "\n",
    "满足子类型关系必定是相容的，不过对于 Any 还有特殊的规定。\n",
    "\n",
    "<span style=\"color: green\">相容规则如下 </span>\n",
    "\n",
    "1. 对 T1 及其子类型 T2，T2 与 T1 相容\n",
    "2. 任何类型都与 Any 相容：声明为 Any 类型的参数接受任何类型的对象\n",
    "3. Any 与任何类型都相容：始终可以把 Any 类型的对象传给预期其他类型的参数"
   ]
  },
  {
   "cell_type": "markdown",
   "metadata": {},
   "source": [
    "诸如 int, float, str 和 bytes 这样的简单的类型可以直接在类型提示中使用。\n",
    "\n",
    "标准库，外部包中的具体类，以及用户自定义的具体类，也可以在类型提示中使用\n"
   ]
  },
  {
   "cell_type": "markdown",
   "metadata": {},
   "source": [
    "### Optional 类型和 Union 类型"
   ]
  },
  {
   "cell_type": "markdown",
   "metadata": {},
   "source": [
    "`Optional[str]` 结构其实是 `Union[str, None]`的简写形式，表示可以是 str 或 None\n",
    "\n",
    "> <mark>Python3.10 为 Optional 和 Union 提供的句法更好</mark>"
   ]
  },
  {
   "cell_type": "markdown",
   "metadata": {},
   "source": [
    "`Union[str, bytes]` 可以写成 `str | bytes`，这种写法输入的内容更少，也不用从 `typing` 中导入 `Optional` 或 `Union`.\n",
    "\n",
    "```python\n",
    "plural: Optional[str] = None    # 旧句法\n",
    "plural: str | None = None       # 新句法\n",
    "```"
   ]
  },
  {
   "cell_type": "markdown",
   "metadata": {},
   "source": [
    "<span style=\"color: red\"> `|` 运算符还可以用于构建 `isinstance` 和 `issubclass` 的第二个参数，例如 `isinstance(x, int|str)`。 详见 PEP 604 </span>"
   ]
  },
  {
   "cell_type": "code",
   "execution_count": null,
   "metadata": {},
   "outputs": [],
   "source": [
    "from typing import Union  # noqa: E402\n",
    "\n",
    "def parse_token(token: str) -> Union[str, float]:\n",
    "    try:\n",
    "        return float(token)\n",
    "    except ValueError:\n",
    "        return token"
   ]
  },
  {
   "cell_type": "markdown",
   "metadata": {},
   "source": [
    "`Union[]` 至少需要两种类型。嵌套的 Union 类型与扁平的 Union 类型效果相同。因此，下面的两种类型提示的效果是相同的\n",
    "\n",
    "`Union[A, B, Union[C, D, E]]`\n",
    "\n",
    "`Union[A, B, C, D, E]`"
   ]
  },
  {
   "cell_type": "markdown",
   "metadata": {},
   "source": [
    "---"
   ]
  },
  {
   "cell_type": "markdown",
   "metadata": {},
   "source": [
    "<mark> Union 所含的类型之间不应相容 </mark>\n"
   ]
  },
  {
   "cell_type": "markdown",
   "metadata": {},
   "source": [
    "例如：`Union[int, float]` 就画蛇添足了，因为 int 和 float 相容。仅使用 float 注解的参数也接受 int 值"
   ]
  },
  {
   "cell_type": "markdown",
   "metadata": {},
   "source": [
    "---"
   ]
  },
  {
   "cell_type": "markdown",
   "metadata": {},
   "source": [
    "### 泛化容器"
   ]
  },
  {
   "cell_type": "markdown",
   "metadata": {},
   "source": [
    "大多数 Python 的容器都是异构的。例如，在一个 list 中可以混合存放不同的类型。\n",
    "\n",
    "然而，实际中这么做没有太多的意义。存入容器中的对象往往需要进一步处理"
   ]
  },
  {
   "cell_type": "code",
   "execution_count": 1,
   "metadata": {},
   "outputs": [],
   "source": [
    "def tokenize(text: str) -> list[str]:\n",
    "    return text.upper.split()"
   ]
  },
  {
   "cell_type": "markdown",
   "metadata": {},
   "source": [
    "3.9 版本及以上，类型提示的意思是 `tokenize` 函数返回一个 list，且各项均为 `str` 类型\n",
    "\n",
    "`stuff: list` 和 `stuff: list[Any]` 两者的意思相同，都表示 `stuff` 是一个列表，且列表中的项可以是任何类型的对象"
   ]
  },
  {
   "cell_type": "markdown",
   "metadata": {},
   "source": [
    "---"
   ]
  },
  {
   "cell_type": "markdown",
   "metadata": {},
   "source": [
    "如果想注解带有多个字段的元组，或者代码中多次用到的特定类型的元组，强烈建议使用 `typing.NamedTuple`"
   ]
  },
  {
   "cell_type": "code",
   "execution_count": null,
   "metadata": {},
   "outputs": [],
   "source": [
    "from typing import NamedTuple\n",
    "\n",
    "class Coordinate(NamedTuple):\n",
    "    lat: float\n",
    "    lon: float\n",
    "\n",
    "\n",
    "def geohash(lat_lon: Coordinate) -> str:\n",
    "    print(f\"{lat_lon.lat}, {lat_lon.lon}\")\n",
    "    return \"geohash\""
   ]
  },
  {
   "cell_type": "markdown",
   "metadata": {},
   "source": [
    "---"
   ]
  },
  {
   "cell_type": "markdown",
   "metadata": {},
   "source": [
    "### 泛化映射"
   ]
  },
  {
   "cell_type": "markdown",
   "metadata": {},
   "source": [
    "泛化映射类型使用 `MappingType[KeyType, ValueType]` 形式注解.\n",
    "\n",
    "在 Python3.9 及以上版本，内置类型 dict 和 collections 和 collections.abc 中的映射类型都可以这样注解\n",
    "\n",
    "更早的版本必须使用 `typing.Dict` 和 `typing` 模块中的其他映射类型"
   ]
  },
  {
   "cell_type": "markdown",
   "metadata": {},
   "source": [
    "<span style=\"color:red\"> 函数的参数应接受那些**抽象类型**，或者Python3.9 之前的版本中的 typing 模块中对应的类型， 而不是具体类型 </span>，这样对调用方来说更加灵活"
   ]
  },
  {
   "cell_type": "markdown",
   "metadata": {},
   "source": [
    "```python\n",
    "from collections.abc import Mapping\n",
    "\n",
    "def name2hex(name: str, color_map: Mapping[str, int]) -> str:\n",
    "\n",
    "```\n",
    "\n",
    "注解的类型是 `abc.Mapping`，因此调用方可以提供 `dict`, `defaultdict` 和 `ChainMap` 的实例，`UserDict` 子类的实例，或者 `Mapping` 的任何子类"
   ]
  },
  {
   "cell_type": "markdown",
   "metadata": {},
   "source": [
    "相比之下，再看下面的签名\n",
    "\n",
    "```python\n",
    "def name2hex(name: str, color_map: dict[str, int]) -> str:\n",
    "```\n",
    "\n",
    "这里，`color_map` 必须是 dict 或者其子类型，例如 defaultDict 或 OrderedDict, 但是需要注意的是，无法使用 `collections.UserDict` 子类通过类型检查\n"
   ]
  },
  {
   "cell_type": "markdown",
   "metadata": {},
   "source": [
    "<span style=\"color:green\"> 一般来说在参数的类型提示中最好使用 `abc.Mapping` 或者 `abc.MutableMapping` </span>, 不要使用 `dict` （也不要在遗留代码中使用 `typing.Dict`"
   ]
  },
  {
   "cell_type": "markdown",
   "metadata": {},
   "source": [
    "如果 name2hex 不改变传入的 color_map, 那么最准确的类型提示是 `abc.Mapping`\n",
    "\n",
    "- 接收时要大方，所以入参最好足够抽象，方便接收更多的类型，\n",
    "- 发送时要保守，因此函数的返回值始终应该是一个具体对象"
   ]
  },
  {
   "cell_type": "markdown",
   "metadata": {},
   "source": [
    "> 泛化版 list，可用于注解返回值类型。\n",
    "> \n",
    "> 如果想注解参数，推荐使用**抽象容器类型**，例如 `Sequence` 或者 `Iterable`"
   ]
  },
  {
   "cell_type": "markdown",
   "metadata": {},
   "source": [
    "---"
   ]
  },
  {
   "cell_type": "markdown",
   "metadata": {},
   "source": [
    "### `Iterable`"
   ]
  },
  {
   "cell_type": "markdown",
   "metadata": {},
   "source": [
    "`typing.List` 推荐使用 `Sequence` 和 `Iterable` 注解函数的参数"
   ]
  },
  {
   "cell_type": "markdown",
   "metadata": {},
   "source": [
    "```python\n",
    "from collections.abc import Iterable\n",
    "\n",
    "FromTo = tuple[str, str]\n",
    "def zip_replace(text: str, change: Iterable[FromTo]) -> str:\n",
    "    for from_, to in changes:\n",
    "        text = text.replace(from_, to)\n",
    "\n",
    "    return text\n",
    "```\n",
    "\n",
    "- `FromTo` 是类型别名，把 `tuple[str, str]` 赋给了 `FromTo`，这样 `zip_replace` 函数签名的可读性更好\n",
    "- `changes` 的类型为 `Iterable[FromTo]`, 这与 `Iterable[tuple[str, str]]`的效果一样, 但是签名更短，可读性更高\n"
   ]
  },
  {
   "cell_type": "markdown",
   "metadata": {},
   "source": [
    "> #### Python3.10 显示使用 TypeAlias"
   ]
  },
  {
   "cell_type": "markdown",
   "metadata": {},
   "source": [
    "TypeAlias 让创建的类型别名的赋值操作更加显眼，也让类型检查更容易\n",
    "\n",
    "\n",
    "```python\n",
    "from typing import TypeAlias\n",
    "\n",
    "FromTo: TypeAlias = tuple[str, str]\n",
    "```\n"
   ]
  },
  {
   "cell_type": "markdown",
   "metadata": {},
   "source": [
    "---"
   ]
  },
  {
   "cell_type": "markdown",
   "metadata": {},
   "source": [
    "### 参数化泛型和 TypeVar"
   ]
  },
  {
   "cell_type": "markdown",
   "metadata": {},
   "source": [
    "参数化泛型是一种泛型，写作 `list[T]`, 其中 T 是类型变量，每次使用时会绑定具体的类型"
   ]
  },
  {
   "cell_type": "markdown",
   "metadata": {},
   "source": [
    "---"
   ]
  },
  {
   "cell_type": "markdown",
   "metadata": {},
   "source": [
    "### `Callable`"
   ]
  },
  {
   "cell_type": "markdown",
   "metadata": {},
   "source": [
    "`collections.abc` 模块提供的 `Callable` 类型用于注解返回的可调用对象\n",
    "\n",
    "Callable 类型可以像下面这样参数化\n",
    "\n",
    "`Callable[[ParamType1, ParamType2], ReturnType]`\n",
    "\n",
    "参数列表，即 `[ParamType1, ParamType2]` 可以包含零或多个类型"
   ]
  },
  {
   "cell_type": "code",
   "execution_count": null,
   "metadata": {},
   "outputs": [],
   "source": []
  }
 ],
 "metadata": {
  "kernelspec": {
   "display_name": "Python 3",
   "language": "python",
   "name": "python3"
  },
  "language_info": {
   "codemirror_mode": {
    "name": "ipython",
    "version": 3
   },
   "file_extension": ".py",
   "mimetype": "text/x-python",
   "name": "python",
   "nbconvert_exporter": "python",
   "pygments_lexer": "ipython3",
   "version": "3.11.1"
  }
 },
 "nbformat": 4,
 "nbformat_minor": 2
}
