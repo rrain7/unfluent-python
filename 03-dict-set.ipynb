{
 "cells": [
  {
   "cell_type": "markdown",
   "metadata": {},
   "source": [
    "# 字典和集合\n",
    "\n",
    "字典在 Python 中至关重要，即使没有直接使用，也会间接用到，因为 <mark>dict 类型是实现 Python 的基石</mark>\n",
    "\n",
    "> 一些 Python 核心结构在内存中以字典的形式存在，比如类和实例属性、模块命名空间，以及函数的关键字\n",
    "\n",
    "> 由于字典很重要，所以 Python 对字典做了高度优化，而且一直在改进，Python 字典高效的原因是使用了哈希表\n",
    "\n",
    "> 除了字典之外，`set` 和 `frozenset` 也是基于哈希表，而且这两个类型的运算符和 API 相比于其他语言的集合更加丰富\n",
    ">\n",
    "> <span style=\"color:green\"> Python 中的集合实现了集合论中的所有基本运算，包括并集、交集、子集测试等</span>"
   ]
  },
  {
   "cell_type": "markdown",
   "metadata": {},
   "source": [
    "包括以下内容：\n",
    "- 构建及处理 dict 和<mark>映射</mark>的现代语法, 包括增强的拆包和模式匹配\n",
    "- 映射类型的常用方法\n",
    "- 特别处理缺失键的情况\n",
    "- 标准库中的 dict 变体\n",
    "- set 和 frozenset 类型\n",
    "- 哈希表对集合和字典行为的影响"
   ]
  },
  {
   "cell_type": "markdown",
   "metadata": {},
   "source": [
    "> dict 和 set 的底层实现依赖于哈希表，不过 dict 的代码有两项重要的优化，节省内存，还能保留键的插入顺序"
   ]
  },
  {
   "cell_type": "markdown",
   "metadata": {},
   "source": [
    "## 3.2 字典的现代句法"
   ]
  },
  {
   "cell_type": "markdown",
   "metadata": {},
   "source": [
    "### 字典推导式"
   ]
  },
  {
   "cell_type": "code",
   "execution_count": 1,
   "metadata": {},
   "outputs": [
    {
     "name": "stdout",
     "output_type": "stream",
     "text": [
      "{'Bangladesh': 880, 'Brazil': 55, 'China': 86, 'India': 91, 'Japan': 81}\n"
     ]
    }
   ],
   "source": [
    "dial_codes = [\n",
    "    (880, 'Bangladesh'),\n",
    "    (55, 'Brazil'),\n",
    "    (86, 'China'),\n",
    "    (91, 'India'),\n",
    "    (81, 'Japan'),\n",
    "]\n",
    "\n",
    "country_dial = {country: code for code, country in dial_codes}\n",
    "print(country_dial)"
   ]
  },
  {
   "cell_type": "code",
   "execution_count": 2,
   "metadata": {},
   "outputs": [
    {
     "data": {
      "text/plain": [
       "{55: 'BRAZIL', 86: 'CHINA', 91: 'INDIA', 81: 'JAPAN'}"
      ]
     },
     "execution_count": 2,
     "metadata": {},
     "output_type": "execute_result"
    }
   ],
   "source": [
    "{code: country.upper() \n",
    " for country, code in sorted(country_dial.items())\n",
    " if code < 100\n",
    "}"
   ]
  },
  {
   "cell_type": "markdown",
   "metadata": {},
   "source": [
    "### 映射拆包"
   ]
  },
  {
   "cell_type": "markdown",
   "metadata": {},
   "source": [
    "Python3.5 开始对映射拆包功能做了增强\n",
    "\n",
    "- 调用函数时，不止一个参数可以使用 `**`, 但是<mark>所有的键都要是字符串，而且在所有的参数重是唯一的</mark>\n",
    "- `**` 可以在 dict 字面量中使用，同样可以多次使用"
   ]
  },
  {
   "cell_type": "code",
   "execution_count": 3,
   "metadata": {},
   "outputs": [
    {
     "data": {
      "text/plain": [
       "{'x': 1, 'y': 2, 'z': 3, 't': 4}"
      ]
     },
     "execution_count": 3,
     "metadata": {},
     "output_type": "execute_result"
    }
   ],
   "source": [
    "def dump(**kwargs):\n",
    "    return kwargs\n",
    "\n",
    "dump(**{'x': 1}, y=2, **{'z': 3, 't': 4})"
   ]
  },
  {
   "cell_type": "code",
   "execution_count": 1,
   "metadata": {},
   "outputs": [
    {
     "data": {
      "text/plain": [
       "{'a': 0, 'x': 4, 'y': 2, 'z': 3}"
      ]
     },
     "execution_count": 1,
     "metadata": {},
     "output_type": "execute_result"
    }
   ],
   "source": [
    "{'a': 0, **{'x': 1}, 'y': 2, **{'z': 3, 'x': 4}}"
   ]
  },
  {
   "cell_type": "markdown",
   "metadata": {},
   "source": [
    "### 使用 | 合并映射"
   ]
  },
  {
   "cell_type": "code",
   "execution_count": 4,
   "metadata": {},
   "outputs": [
    {
     "name": "stdout",
     "output_type": "stream",
     "text": [
      "{'a': 6, 'b': 2, 'c': 3, 'd': 4}\n"
     ]
    }
   ],
   "source": [
    "d1 = dict(a=1, b=2)\n",
    "d2 = dict(c=3, d=4, a=6)\n",
    "\n",
    "print(d1 | d2)"
   ]
  },
  {
   "cell_type": "markdown",
   "metadata": {},
   "source": [
    "更新后的 a 是 6\n",
    "\n",
    "通常来说，新映射的类型与左操作数的类型相同\n",
    "\n",
    "可以通过就地修改操作，使用 `|=` 更改当前现有的映射"
   ]
  },
  {
   "cell_type": "markdown",
   "metadata": {},
   "source": [
    "## 3.3 使用模式匹配处理映射"
   ]
  },
  {
   "cell_type": "markdown",
   "metadata": {},
   "source": [
    "`match/case` 语句可以匹配映射。\n",
    "\n",
    "不同类型的模式可以组合和嵌套，模式匹配是一种强大的工具，借助析构可以处理嵌套的映射和序列等结构化记录\n",
    "\n",
    "> 经常需要从 JSON API 和具有半结构化模式的数据库（MongoDB、PG）读取数据"
   ]
  },
  {
   "cell_type": "code",
   "execution_count": 6,
   "metadata": {},
   "outputs": [],
   "source": [
    "# 从出版物记录中提取创作者的名字\n",
    "\n",
    "def get_creators(record: dict) -> list:\n",
    "    match record:\n",
    "        case {'type': 'book', 'api': 2, 'authors': [*names]}:\n",
    "            return names\n",
    "        case {'type': 'book', 'api': 1, 'author': name}:\n",
    "            return [name]\n",
    "        case {'type': 'book'}:\n",
    "            raise ValueError(f\"Invalid 'book' record: {record!r}\")\n",
    "        case {'type': 'movie', 'director': name}:\n",
    "            return [name]\n",
    "        case _:\n",
    "            raise ValueError(f\"Invalid record: {record!r}\")"
   ]
  },
  {
   "cell_type": "markdown",
   "metadata": {},
   "source": [
    "下面做一个小小的测试，测试一下 get_creators 函数"
   ]
  },
  {
   "cell_type": "code",
   "execution_count": 10,
   "metadata": {},
   "outputs": [
    {
     "name": "stdout",
     "output_type": "stream",
     "text": [
      "['Douglas Adams']\n",
      "['Douglas', 'Adams']\n"
     ]
    },
    {
     "ename": "ValueError",
     "evalue": "Invalid 'book' record: {'type': 'book', 'pages': 100}",
     "output_type": "error",
     "traceback": [
      "\u001b[0;31m---------------------------------------------------------------------------\u001b[0m",
      "\u001b[0;31mValueError\u001b[0m                                Traceback (most recent call last)",
      "Cell \u001b[0;32mIn[10], line 11\u001b[0m\n\u001b[1;32m      8\u001b[0m authors \u001b[39m=\u001b[39m get_creators(b2)\n\u001b[1;32m      9\u001b[0m \u001b[39mprint\u001b[39m(authors)\n\u001b[0;32m---> 11\u001b[0m get_creators({\u001b[39m'\u001b[39;49m\u001b[39mtype\u001b[39;49m\u001b[39m'\u001b[39;49m: \u001b[39m'\u001b[39;49m\u001b[39mbook\u001b[39;49m\u001b[39m'\u001b[39;49m, \u001b[39m'\u001b[39;49m\u001b[39mpages\u001b[39;49m\u001b[39m'\u001b[39;49m: \u001b[39m100\u001b[39;49m})\n",
      "Cell \u001b[0;32mIn[6], line 10\u001b[0m, in \u001b[0;36mget_creators\u001b[0;34m(record)\u001b[0m\n\u001b[1;32m      8\u001b[0m     \u001b[39mreturn\u001b[39;00m [name]\n\u001b[1;32m      9\u001b[0m \u001b[39mcase\u001b[39;00m {\u001b[39m'\u001b[39m\u001b[39mtype\u001b[39m\u001b[39m'\u001b[39m: \u001b[39m'\u001b[39m\u001b[39mbook\u001b[39m\u001b[39m'\u001b[39m}:\n\u001b[0;32m---> 10\u001b[0m     \u001b[39mraise\u001b[39;00m \u001b[39mValueError\u001b[39;00m(\u001b[39mf\u001b[39m\u001b[39m\"\u001b[39m\u001b[39mInvalid \u001b[39m\u001b[39m'\u001b[39m\u001b[39mbook\u001b[39m\u001b[39m'\u001b[39m\u001b[39m record: \u001b[39m\u001b[39m{\u001b[39;00mrecord\u001b[39m!r}\u001b[39;00m\u001b[39m\"\u001b[39m)\n\u001b[1;32m     11\u001b[0m \u001b[39mcase\u001b[39;00m {\u001b[39m'\u001b[39m\u001b[39mtype\u001b[39m\u001b[39m'\u001b[39m: \u001b[39m'\u001b[39m\u001b[39mmovie\u001b[39m\u001b[39m'\u001b[39m, \u001b[39m'\u001b[39m\u001b[39mdirector\u001b[39m\u001b[39m'\u001b[39m: name}:\n\u001b[1;32m     12\u001b[0m     \u001b[39mreturn\u001b[39;00m [name]\n",
      "\u001b[0;31mValueError\u001b[0m: Invalid 'book' record: {'type': 'book', 'pages': 100}"
     ]
    }
   ],
   "source": [
    "b1 = dict(api=1, author='Douglas Adams', type='book', title='war of the worlds')\n",
    "\n",
    "author = get_creators(b1)\n",
    "print(author)\n",
    "\n",
    "from collections import OrderedDict\n",
    "b2 = OrderedDict(api=2, type='book', title='war of the worlds', authors='Douglas Adams'.split())\n",
    "authors = get_creators(b2)\n",
    "print(authors)\n",
    "\n",
    "get_creators({'type': 'book', 'pages': 100})"
   ]
  },
  {
   "cell_type": "markdown",
   "metadata": {},
   "source": [
    "<mark>模式中的键的顺序无关紧要</mark>"
   ]
  },
  {
   "cell_type": "markdown",
   "metadata": {},
   "source": [
    "<span style=\"color: green\"> 与序列模式不同，就算只有部分匹配，映射模式也算匹配成功 </span>\n"
   ]
  },
  {
   "cell_type": "markdown",
   "metadata": {},
   "source": [
    "<span style=\"color:green\"> 没有必要使用 `**extra` 匹配多出的键值对，若想把多余的键值对捕获到一个 dict 中，可以在一个变量前面加上 `**`, 不过需要放在最后面 </span> "
   ]
  },
  {
   "cell_type": "code",
   "execution_count": 11,
   "metadata": {},
   "outputs": [
    {
     "name": "stdout",
     "output_type": "stream",
     "text": [
      "fruit details: {'name': 'apple', 'price': 1.99}\n"
     ]
    }
   ],
   "source": [
    "food = dict(category='fruit', name='apple', price=1.99)\n",
    "match food:\n",
    "    case {'category': 'fruit', **details}:\n",
    "        print(f'fruit details: {details}')"
   ]
  },
  {
   "cell_type": "markdown",
   "metadata": {},
   "source": [
    "> 模式匹配不自动处理缺失的键，因为模式匹配始终使用 `d.get(key, sentinel)` 方法，其中，sentinel 是特殊的标记，不会出现在用户数据中。"
   ]
  },
  {
   "cell_type": "markdown",
   "metadata": {},
   "source": [
    "## 3.4 映射类型的标准 API"
   ]
  }
 ],
 "metadata": {
  "kernelspec": {
   "display_name": "Python 3",
   "language": "python",
   "name": "python3"
  },
  "language_info": {
   "codemirror_mode": {
    "name": "ipython",
    "version": 3
   },
   "file_extension": ".py",
   "mimetype": "text/x-python",
   "name": "python",
   "nbconvert_exporter": "python",
   "pygments_lexer": "ipython3",
   "version": "3.11.1"
  },
  "orig_nbformat": 4
 },
 "nbformat": 4,
 "nbformat_minor": 2
}
