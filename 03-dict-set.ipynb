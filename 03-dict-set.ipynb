{
 "cells": [
  {
   "cell_type": "markdown",
   "metadata": {},
   "source": [
    "# 字典和集合\n",
    "\n",
    "字典在 Python 中至关重要，即使没有直接使用，也会间接用到，因为 <mark>dict 类型是实现 Python 的基石</mark>\n",
    "\n",
    "> 一些 Python 核心结构在内存中以字典的形式存在，比如类和实例属性、模块命名空间，以及函数的关键字\n",
    "\n",
    "> 由于字典很重要，所以 Python 对字典做了高度优化，而且一直在改进，Python 字典高效的原因是使用了哈希表\n",
    "\n",
    "> 除了字典之外，`set` 和 `frozenset` 也是基于哈希表，而且这两个类型的运算符和 API 相比于其他语言的集合更加丰富\n",
    ">\n",
    "> <span style=\"color:green\"> Python 中的集合实现了集合论中的所有基本运算，包括并集、交集、子集测试等</span>"
   ]
  },
  {
   "cell_type": "markdown",
   "metadata": {},
   "source": [
    "包括以下内容：\n",
    "- 构建及处理 dict 和<mark>映射</mark>的现代语法, 包括增强的拆包和模式匹配\n",
    "- 映射类型的常用方法\n",
    "- 特别处理缺失键的情况\n",
    "- 标准库中的 dict 变体\n",
    "- set 和 frozenset 类型\n",
    "- 哈希表对集合和字典行为的影响"
   ]
  },
  {
   "cell_type": "markdown",
   "metadata": {},
   "source": [
    "> dict 和 set 的底层实现依赖于哈希表，不过 dict 的代码有两项重要的优化，节省内存，还能保留键的插入顺序"
   ]
  },
  {
   "cell_type": "markdown",
   "metadata": {},
   "source": [
    "## 3.2 字典的现代句法"
   ]
  },
  {
   "cell_type": "markdown",
   "metadata": {},
   "source": [
    "### 字典推导式"
   ]
  },
  {
   "cell_type": "code",
   "execution_count": 1,
   "metadata": {},
   "outputs": [
    {
     "name": "stdout",
     "output_type": "stream",
     "text": [
      "{'Bangladesh': 880, 'Brazil': 55, 'China': 86, 'India': 91, 'Japan': 81}\n"
     ]
    }
   ],
   "source": [
    "dial_codes = [\n",
    "    (880, 'Bangladesh'),\n",
    "    (55, 'Brazil'),\n",
    "    (86, 'China'),\n",
    "    (91, 'India'),\n",
    "    (81, 'Japan'),\n",
    "]\n",
    "\n",
    "country_dial = {country: code for code, country in dial_codes}\n",
    "print(country_dial)"
   ]
  },
  {
   "cell_type": "code",
   "execution_count": 2,
   "metadata": {},
   "outputs": [
    {
     "data": {
      "text/plain": [
       "{55: 'BRAZIL', 86: 'CHINA', 91: 'INDIA', 81: 'JAPAN'}"
      ]
     },
     "execution_count": 2,
     "metadata": {},
     "output_type": "execute_result"
    }
   ],
   "source": [
    "{code: country.upper() \n",
    " for country, code in sorted(country_dial.items())\n",
    " if code < 100\n",
    "}"
   ]
  },
  {
   "cell_type": "markdown",
   "metadata": {},
   "source": [
    "### 映射拆包"
   ]
  },
  {
   "cell_type": "markdown",
   "metadata": {},
   "source": [
    "Python3.5 开始对映射拆包功能做了增强\n",
    "\n",
    "- 调用函数时，不止一个参数可以使用 `**`, 但是<mark>所有的键都要是字符串，而且在所有的参数重是唯一的</mark>\n",
    "- `**` 可以在 dict 字面量中使用，同样可以多次使用"
   ]
  },
  {
   "cell_type": "code",
   "execution_count": 3,
   "metadata": {},
   "outputs": [
    {
     "data": {
      "text/plain": [
       "{'x': 1, 'y': 2, 'z': 3, 't': 4}"
      ]
     },
     "execution_count": 3,
     "metadata": {},
     "output_type": "execute_result"
    }
   ],
   "source": [
    "def dump(**kwargs):\n",
    "    return kwargs\n",
    "\n",
    "dump(**{'x': 1}, y=2, **{'z': 3, 't': 4})"
   ]
  },
  {
   "cell_type": "code",
   "execution_count": 1,
   "metadata": {},
   "outputs": [
    {
     "data": {
      "text/plain": [
       "{'a': 0, 'x': 4, 'y': 2, 'z': 3}"
      ]
     },
     "execution_count": 1,
     "metadata": {},
     "output_type": "execute_result"
    }
   ],
   "source": [
    "{'a': 0, **{'x': 1}, 'y': 2, **{'z': 3, 'x': 4}}"
   ]
  },
  {
   "cell_type": "markdown",
   "metadata": {},
   "source": [
    "### 使用 | 合并映射"
   ]
  },
  {
   "cell_type": "code",
   "execution_count": 4,
   "metadata": {},
   "outputs": [
    {
     "name": "stdout",
     "output_type": "stream",
     "text": [
      "{'a': 6, 'b': 2, 'c': 3, 'd': 4}\n"
     ]
    }
   ],
   "source": [
    "d1 = dict(a=1, b=2)\n",
    "d2 = dict(c=3, d=4, a=6)\n",
    "\n",
    "print(d1 | d2)"
   ]
  },
  {
   "cell_type": "markdown",
   "metadata": {},
   "source": [
    "更新后的 a 是 6\n",
    "\n",
    "通常来说，新映射的类型与左操作数的类型相同\n",
    "\n",
    "可以通过就地修改操作，使用 `|=` 更改当前现有的映射"
   ]
  },
  {
   "cell_type": "markdown",
   "metadata": {},
   "source": [
    "## 3.3 使用模式匹配处理映射"
   ]
  },
  {
   "cell_type": "markdown",
   "metadata": {},
   "source": [
    "`match/case` 语句可以匹配映射。\n",
    "\n",
    "不同类型的模式可以组合和嵌套，模式匹配是一种强大的工具，借助析构可以处理嵌套的映射和序列等结构化记录\n",
    "\n",
    "> 经常需要从 JSON API 和具有半结构化模式的数据库（MongoDB、PG）读取数据"
   ]
  },
  {
   "cell_type": "code",
   "execution_count": 6,
   "metadata": {},
   "outputs": [],
   "source": [
    "# 从出版物记录中提取创作者的名字\n",
    "\n",
    "def get_creators(record: dict) -> list:\n",
    "    match record:\n",
    "        case {'type': 'book', 'api': 2, 'authors': [*names]}:\n",
    "            return names\n",
    "        case {'type': 'book', 'api': 1, 'author': name}:\n",
    "            return [name]\n",
    "        case {'type': 'book'}:\n",
    "            raise ValueError(f\"Invalid 'book' record: {record!r}\")\n",
    "        case {'type': 'movie', 'director': name}:\n",
    "            return [name]\n",
    "        case _:\n",
    "            raise ValueError(f\"Invalid record: {record!r}\")"
   ]
  },
  {
   "cell_type": "markdown",
   "metadata": {},
   "source": [
    "下面做一个小小的测试，测试一下 get_creators 函数"
   ]
  },
  {
   "cell_type": "code",
   "execution_count": 10,
   "metadata": {},
   "outputs": [
    {
     "name": "stdout",
     "output_type": "stream",
     "text": [
      "['Douglas Adams']\n",
      "['Douglas', 'Adams']\n"
     ]
    },
    {
     "ename": "ValueError",
     "evalue": "Invalid 'book' record: {'type': 'book', 'pages': 100}",
     "output_type": "error",
     "traceback": [
      "\u001b[0;31m---------------------------------------------------------------------------\u001b[0m",
      "\u001b[0;31mValueError\u001b[0m                                Traceback (most recent call last)",
      "Cell \u001b[0;32mIn[10], line 11\u001b[0m\n\u001b[1;32m      8\u001b[0m authors \u001b[39m=\u001b[39m get_creators(b2)\n\u001b[1;32m      9\u001b[0m \u001b[39mprint\u001b[39m(authors)\n\u001b[0;32m---> 11\u001b[0m get_creators({\u001b[39m'\u001b[39;49m\u001b[39mtype\u001b[39;49m\u001b[39m'\u001b[39;49m: \u001b[39m'\u001b[39;49m\u001b[39mbook\u001b[39;49m\u001b[39m'\u001b[39;49m, \u001b[39m'\u001b[39;49m\u001b[39mpages\u001b[39;49m\u001b[39m'\u001b[39;49m: \u001b[39m100\u001b[39;49m})\n",
      "Cell \u001b[0;32mIn[6], line 10\u001b[0m, in \u001b[0;36mget_creators\u001b[0;34m(record)\u001b[0m\n\u001b[1;32m      8\u001b[0m     \u001b[39mreturn\u001b[39;00m [name]\n\u001b[1;32m      9\u001b[0m \u001b[39mcase\u001b[39;00m {\u001b[39m'\u001b[39m\u001b[39mtype\u001b[39m\u001b[39m'\u001b[39m: \u001b[39m'\u001b[39m\u001b[39mbook\u001b[39m\u001b[39m'\u001b[39m}:\n\u001b[0;32m---> 10\u001b[0m     \u001b[39mraise\u001b[39;00m \u001b[39mValueError\u001b[39;00m(\u001b[39mf\u001b[39m\u001b[39m\"\u001b[39m\u001b[39mInvalid \u001b[39m\u001b[39m'\u001b[39m\u001b[39mbook\u001b[39m\u001b[39m'\u001b[39m\u001b[39m record: \u001b[39m\u001b[39m{\u001b[39;00mrecord\u001b[39m!r}\u001b[39;00m\u001b[39m\"\u001b[39m)\n\u001b[1;32m     11\u001b[0m \u001b[39mcase\u001b[39;00m {\u001b[39m'\u001b[39m\u001b[39mtype\u001b[39m\u001b[39m'\u001b[39m: \u001b[39m'\u001b[39m\u001b[39mmovie\u001b[39m\u001b[39m'\u001b[39m, \u001b[39m'\u001b[39m\u001b[39mdirector\u001b[39m\u001b[39m'\u001b[39m: name}:\n\u001b[1;32m     12\u001b[0m     \u001b[39mreturn\u001b[39;00m [name]\n",
      "\u001b[0;31mValueError\u001b[0m: Invalid 'book' record: {'type': 'book', 'pages': 100}"
     ]
    }
   ],
   "source": [
    "b1 = dict(api=1, author='Douglas Adams', type='book', title='war of the worlds')\n",
    "\n",
    "author = get_creators(b1)\n",
    "print(author)\n",
    "\n",
    "from collections import OrderedDict\n",
    "b2 = OrderedDict(api=2, type='book', title='war of the worlds', authors='Douglas Adams'.split())\n",
    "authors = get_creators(b2)\n",
    "print(authors)\n",
    "\n",
    "get_creators({'type': 'book', 'pages': 100})"
   ]
  },
  {
   "cell_type": "markdown",
   "metadata": {},
   "source": [
    "<mark>模式中的键的顺序无关紧要</mark>"
   ]
  },
  {
   "cell_type": "markdown",
   "metadata": {},
   "source": [
    "<span style=\"color: green\"> 与序列模式不同，就算只有部分匹配，映射模式也算匹配成功 </span>\n"
   ]
  },
  {
   "cell_type": "markdown",
   "metadata": {},
   "source": [
    "<span style=\"color:green\"> 没有必要使用 `**extra` 匹配多出的键值对，若想把多余的键值对捕获到一个 dict 中，可以在一个变量前面加上 `**`, 不过需要放在最后面 </span> "
   ]
  },
  {
   "cell_type": "code",
   "execution_count": 11,
   "metadata": {},
   "outputs": [
    {
     "name": "stdout",
     "output_type": "stream",
     "text": [
      "fruit details: {'name': 'apple', 'price': 1.99}\n"
     ]
    }
   ],
   "source": [
    "food = dict(category='fruit', name='apple', price=1.99)\n",
    "match food:\n",
    "    case {'category': 'fruit', **details}:\n",
    "        print(f'fruit details: {details}')"
   ]
  },
  {
   "cell_type": "markdown",
   "metadata": {},
   "source": [
    "> 模式匹配不自动处理缺失的键，因为模式匹配始终使用 `d.get(key, sentinel)` 方法，其中，sentinel 是特殊的标记，不会出现在用户数据中。"
   ]
  },
  {
   "cell_type": "markdown",
   "metadata": {},
   "source": [
    "## 3.4 映射类型的标准 API"
   ]
  },
  {
   "cell_type": "markdown",
   "metadata": {},
   "source": [
    "<span style=\"color:red\"> `isinstance` 经常用来检查是否满足抽象基类的要求 </span>"
   ]
  },
  {
   "cell_type": "markdown",
   "metadata": {},
   "source": [
    "自定义映射类型的键必须是可哈希的"
   ]
  },
  {
   "cell_type": "markdown",
   "metadata": {},
   "source": [
    "### 「可哈希」指什么\n",
    "\n",
    "> 如果一个对象的 **哈希码** 在整个生命周期内 **永不改变**（依靠 `__hash__()` 方法），而且**可与其他对象比较**（依靠 `__eq__()` 方法），那么这个对象就是可哈希的。"
   ]
  },
  {
   "cell_type": "markdown",
   "metadata": {},
   "source": [
    "可哈希的对象：数值、字符串、字符、不可变的容器"
   ]
  },
  {
   "cell_type": "markdown",
   "metadata": {},
   "source": [
    "当键 k 不存在时，`d[k]` 抛出错误，当把 `d[k]` 换成 `d.get(k, default)`, 若不存在 `d[k]`，则返回 default。\n",
    "\n",
    "也可以使用 `d.setdefault(k, v)`"
   ]
  },
  {
   "cell_type": "markdown",
   "metadata": {},
   "source": [
    "## 3.5 自动处理缺失的键"
   ]
  },
  {
   "cell_type": "markdown",
   "metadata": {},
   "source": [
    "<mark>TODO</mark>"
   ]
  },
  {
   "cell_type": "markdown",
   "metadata": {},
   "source": [
    "## 3.6 dict 的变体"
   ]
  },
  {
   "cell_type": "markdown",
   "metadata": {},
   "source": [
    "### `collections.OrderedDict`"
   ]
  },
  {
   "cell_type": "markdown",
   "metadata": {},
   "source": [
    "Python3.6 起, 内置的 dict 也保留了键的顺序。\n",
    "\n",
    "dict 和 OrderedDict 的差异\n",
    "- OrderedDict 的等值检查考虑顺序\n",
    "- OrderedDict 多了一个 `move_to_end()` 方法，便于把元素的位置移到某一端\n",
    "- OrderedDict 目的是方便执行重新排序操作，空间利用率、迭代速度和更新操作的性能是次要的\n",
    "- dict 用于执行映射操作，插入顺序是次要的\n",
    "- OrderedDict 处理频繁重新排序操作的效果比 dict 好，因此适用于跟踪近期存取情况（**例如 LRU 缓存**）"
   ]
  },
  {
   "cell_type": "markdown",
   "metadata": {},
   "source": [
    "### `collections.ChainMap`\n",
    "\n",
    "ChainMap 存放一组映射，可以作为一个整体来搜索。查找按照输入映射在构造函数调用中出现的顺序执行，一旦在某个映射中找到指定的键，就结束"
   ]
  },
  {
   "cell_type": "code",
   "execution_count": 1,
   "metadata": {},
   "outputs": [
    {
     "name": "stdout",
     "output_type": "stream",
     "text": [
      "1\n",
      "6\n"
     ]
    }
   ],
   "source": [
    "d1 = dict(a=1, b=3)\n",
    "d2 = dict(a=2, b=4, c=6)\n",
    "\n",
    "from collections import ChainMap\n",
    "chain = ChainMap(d1, d2)\n",
    "\n",
    "print(chain['a'])\n",
    "print(chain['c'])"
   ]
  },
  {
   "cell_type": "markdown",
   "metadata": {},
   "source": [
    "- ChainMap 实例不复制输入映射，而是存放映射的引用。\n",
    "\n",
    "- ChainMap 的更新或插入操作只影响第一个输入映射。"
   ]
  },
  {
   "cell_type": "code",
   "execution_count": 3,
   "metadata": {},
   "outputs": [
    {
     "name": "stdout",
     "output_type": "stream",
     "text": [
      "{'a': 1, 'b': 3, 'c': -1}\n",
      "{'a': 2, 'b': 4, 'c': 6}\n"
     ]
    }
   ],
   "source": [
    "chain['c'] = -1\n",
    "\n",
    "print(d1)\n",
    "print(d2)"
   ]
  },
  {
   "cell_type": "markdown",
   "metadata": {},
   "source": [
    "### `collections.Counter`"
   ]
  },
  {
   "cell_type": "markdown",
   "metadata": {},
   "source": []
  },
  {
   "cell_type": "markdown",
   "metadata": {},
   "source": [
    "它可以对键计数进行映射。更新现有的 key，计数随之增加。\n",
    "\n",
    "<mark>可以统计可哈希对象的实例数量</mark>\n",
    "\n",
    "`Counter` 实现了组合计数的 `+` 和 `-` 运算符，以及其他一些有用的方法，比如`most_common([n])`"
   ]
  },
  {
   "cell_type": "code",
   "execution_count": 1,
   "metadata": {},
   "outputs": [
    {
     "name": "stdout",
     "output_type": "stream",
     "text": [
      "Counter({'a': 5, 'b': 2, 'r': 2, 'c': 1, 'd': 1})\n"
     ]
    }
   ],
   "source": [
    "from collections import Counter\n",
    "\n",
    "ct = Counter('abracadabra')\n",
    "print(ct)"
   ]
  },
  {
   "cell_type": "code",
   "execution_count": 2,
   "metadata": {},
   "outputs": [
    {
     "name": "stdout",
     "output_type": "stream",
     "text": [
      "Counter({'a': 12, 'z': 3, 'b': 2, 'r': 2, 'c': 1, 'd': 1})\n"
     ]
    }
   ],
   "source": [
    "ct.update('aaaaaaazzz')\n",
    "print(ct)"
   ]
  },
  {
   "cell_type": "code",
   "execution_count": 4,
   "metadata": {},
   "outputs": [
    {
     "data": {
      "text/plain": [
       "[('a', 12), ('z', 3), ('b', 2), ('r', 2)]"
      ]
     },
     "execution_count": 4,
     "metadata": {},
     "output_type": "execute_result"
    }
   ],
   "source": [
    "ct.most_common(4)"
   ]
  },
  {
   "cell_type": "markdown",
   "metadata": {},
   "source": [
    "### shelve.Shelf"
   ]
  },
  {
   "cell_type": "markdown",
   "metadata": {},
   "source": [
    "shelve 模块持久存储<mark>字符串键</mark>\n",
    "\n",
    "- `shelve.open` 返回 `shelve.Shelf` 实例，这是一个简单的键值 DBM 数据库\n",
    "- `shelve.Shelf` 提供了一些 `I/O` 管理方法，例如 sync 和 close\n",
    "- `Shelf` 实例是上下文管理器，可以使用 with 块确保在使用后关闭\n",
    "- 键必须是字符串"
   ]
  },
  {
   "cell_type": "markdown",
   "metadata": {},
   "source": [
    "<span style=\"color: green\"> 创建新的映射类型，最好扩展 `collections.UserDict`，而不是 `dict`.</span>\n",
    "\n",
    "- 继承 `UserDict` 主要原因是：内置的 dict 在实现上走了一些捷径，如果继承 dict, 那就不得不覆盖一些方法。"
   ]
  },
  {
   "cell_type": "markdown",
   "metadata": {},
   "source": [
    "## 3.7 不可变映射"
   ]
  },
  {
   "cell_type": "markdown",
   "metadata": {},
   "source": [
    "> 标准库提供的映射类型都是可变的，但有时候需要防止用户更改映射"
   ]
  },
  {
   "cell_type": "markdown",
   "metadata": {},
   "source": [
    "types 模块提供了 `MappingProxyType` 是一个包装类，把传入的映射包装成一个 `mappingproxy` 实例，只可以读取（类似只读类型）\n",
    "\n",
    "也就是说，对原映射的更新体现在 `mapppingproxy` 实例上，但是不能通过它更改映射"
   ]
  },
  {
   "cell_type": "code",
   "execution_count": 5,
   "metadata": {},
   "outputs": [
    {
     "name": "stdout",
     "output_type": "stream",
     "text": [
      "{'a': 1, 'b': 2}\n",
      "1\n"
     ]
    }
   ],
   "source": [
    "from types import MappingProxyType\n",
    "d = {'a': 1, 'b': 2}\n",
    "d_proxy = MappingProxyType(d)\n",
    "print(d_proxy)\n",
    "\n",
    "print(d_proxy['a'])"
   ]
  },
  {
   "cell_type": "code",
   "execution_count": 6,
   "metadata": {},
   "outputs": [
    {
     "ename": "TypeError",
     "evalue": "'mappingproxy' object does not support item assignment",
     "output_type": "error",
     "traceback": [
      "\u001b[0;31m---------------------------------------------------------------------------\u001b[0m",
      "\u001b[0;31mTypeError\u001b[0m                                 Traceback (most recent call last)",
      "Cell \u001b[0;32mIn[6], line 1\u001b[0m\n\u001b[0;32m----> 1\u001b[0m d_proxy[\u001b[39m'\u001b[39;49m\u001b[39mb\u001b[39;49m\u001b[39m'\u001b[39;49m] \u001b[39m=\u001b[39m \u001b[39m3\u001b[39m\n",
      "\u001b[0;31mTypeError\u001b[0m: 'mappingproxy' object does not support item assignment"
     ]
    }
   ],
   "source": [
    "d_proxy['b'] = 3"
   ]
  },
  {
   "cell_type": "code",
   "execution_count": 7,
   "metadata": {},
   "outputs": [
    {
     "name": "stdout",
     "output_type": "stream",
     "text": [
      "{'a': 1, 'b': 3}\n",
      "3\n"
     ]
    }
   ],
   "source": [
    "d['b'] = 3\n",
    "\n",
    "print(d_proxy)\n",
    "print(d['b'])"
   ]
  },
  {
   "cell_type": "markdown",
   "metadata": {},
   "source": [
    "## 3.8 字典视图"
   ]
  },
  {
   "cell_type": "markdown",
   "metadata": {},
   "source": [
    "> 通过视图可以对字典执行一些高性能操作，免去复制数据的麻烦"
   ]
  },
  {
   "cell_type": "markdown",
   "metadata": {},
   "source": [
    "- dict的实例方法 `.keys()`, `.values()` 和 `.items()` 分别返回 dict_keys, dict_values 和 dict_items 类的实例。\n",
    "\n",
    "- 这些字典视图是 dict 内部实现使用的数据结构的只读投影"
   ]
  },
  {
   "cell_type": "code",
   "execution_count": 8,
   "metadata": {},
   "outputs": [
    {
     "name": "stdout",
     "output_type": "stream",
     "text": [
      "dict_values([10, 20, 30])\n"
     ]
    }
   ],
   "source": [
    "d = dict(a=10, b=20, c=30)\n",
    "values = d.values()\n",
    "\n",
    "print(values)\n",
    "print(len(values))"
   ]
  },
  {
   "cell_type": "markdown",
   "metadata": {},
   "source": [
    "<span style=\"color:green\"> 视图是可迭代对象，方便构建列表，以及实现了 `__reversed__` 方法 </span>"
   ]
  },
  {
   "cell_type": "code",
   "execution_count": 9,
   "metadata": {},
   "outputs": [
    {
     "name": "stdout",
     "output_type": "stream",
     "text": [
      "[10, 20, 30]\n",
      "<dict_reversevalueiterator object at 0x1065a9620>\n"
     ]
    }
   ],
   "source": [
    "print(list(values))\n",
    "\n",
    "print(reversed(values))"
   ]
  },
  {
   "cell_type": "markdown",
   "metadata": {},
   "source": [
    "<mark> 不能使用 `[]` 获取视图中的项 </mark>"
   ]
  },
  {
   "cell_type": "markdown",
   "metadata": {},
   "source": [
    "视图对象是动态代理，更新原 dict 对象后，现有视图立即就能看到变化\n",
    "\n",
    "`dict_keys`, `dict_values`, `dict_items` 是内部类，不同通过任何模块获取到，尽管可以获取实例，但是无法在 Python 代码中自己动手创建"
   ]
  },
  {
   "cell_type": "code",
   "execution_count": 10,
   "metadata": {},
   "outputs": [
    {
     "ename": "TypeError",
     "evalue": "cannot create 'dict_values' instances",
     "output_type": "error",
     "traceback": [
      "\u001b[0;31m---------------------------------------------------------------------------\u001b[0m",
      "\u001b[0;31mTypeError\u001b[0m                                 Traceback (most recent call last)",
      "Cell \u001b[0;32mIn[10], line 3\u001b[0m\n\u001b[1;32m      1\u001b[0m values_class \u001b[39m=\u001b[39m \u001b[39mtype\u001b[39m({}\u001b[39m.\u001b[39mvalues())\n\u001b[0;32m----> 3\u001b[0m v \u001b[39m=\u001b[39m values_class()\n",
      "\u001b[0;31mTypeError\u001b[0m: cannot create 'dict_values' instances"
     ]
    }
   ],
   "source": [
    "values_class = type({}.values())\n",
    "\n",
    "v = values_class()"
   ]
  },
  {
   "cell_type": "markdown",
   "metadata": {},
   "source": [
    "- `dict_values` 类是最简单的字典视图，只实现了 `__len__`, `__iter__` 和 `__reversed__` 三个特殊方法。\n",
    "- `dict_keys` 和 `dict_items` 还实现了多个集合方法，类似于 `frozenset`。"
   ]
  },
  {
   "cell_type": "markdown",
   "metadata": {},
   "source": [
    "## 3.9 dict 的实现方式对实践的影响"
   ]
  },
  {
   "cell_type": "markdown",
   "metadata": {},
   "source": [
    "> Python 使用哈希表实现 dict，字典效率非常高，但对实践也有一定的影响"
   ]
  },
  {
   "cell_type": "markdown",
   "metadata": {},
   "source": [
    "- 键必须是可哈希的对象（需要正确实现 `__hash__` 和 `__eq__` 方法\n",
    "- 通过键访问项的速度非常快。一个包含数百万个键的 dict 对象通过哈希码就可以直接定位，然后找出索引在哈希表中的偏移量，稍微几次就能匹配到，所以开销并不大\n",
    "- Cpython3.6 中，dict 的内存布局更为紧凑，键的顺序也得以保留\n",
    "- 尽管采用了新的紧凑布局，但是字典仍然占用了大量的内存，不可避免。<mark> 最紧凑的内部数据结构是指向项的指针的数组</mark>, 而哈希表中的条目存储的数据更多，为了保证效率，至少需要把哈希表中的三分之一的行留空。\n",
    "- 为了节省内存，不要在 `__init__` 方法之外创建实例属性。（Python 默认在特殊的 __dict__ 属性中存储实例属性，这个属性的值是一个字典依附在各个实例上"
   ]
  },
  {
   "cell_type": "markdown",
   "metadata": {},
   "source": [
    "## 3.10 集合论 "
   ]
  },
  {
   "cell_type": "markdown",
   "metadata": {},
   "source": [
    "set 和 frozenset 是 Python3 的内置集合类型\n",
    "\n",
    "集合是一组唯一的对象，可以用来进行去除重复项"
   ]
  },
  {
   "cell_type": "code",
   "execution_count": 11,
   "metadata": {},
   "outputs": [
    {
     "name": "stdout",
     "output_type": "stream",
     "text": [
      "{'bacon', 'eggs', 'spam'}\n",
      "['bacon', 'eggs', 'spam']\n"
     ]
    }
   ],
   "source": [
    "l = ['spam', 'spam', 'eggs', 'bacon', 'eggs']\n",
    "\n",
    "print(set(l))\n",
    "\n",
    "print(list(set(l)))"
   ]
  },
  {
   "cell_type": "markdown",
   "metadata": {},
   "source": [
    "> 如果想去除重复项，同时保留每一项首次出现位置的顺序，那么使用普通的 dict 即可"
   ]
  },
  {
   "cell_type": "code",
   "execution_count": 12,
   "metadata": {},
   "outputs": [
    {
     "name": "stdout",
     "output_type": "stream",
     "text": [
      "dict_keys(['spam', 'eggs', 'bacon'])\n",
      "['spam', 'eggs', 'bacon']\n"
     ]
    }
   ],
   "source": [
    "k = dict.fromkeys(l).keys()\n",
    "print(k)\n",
    "\n",
    "print(list(k))"
   ]
  },
  {
   "cell_type": "markdown",
   "metadata": {},
   "source": [
    "集合元素必须是可哈希的对象。\n",
    "\n",
    "- set 类型不可哈希\n",
    "- frozenset 类型可哈希"
   ]
  },
  {
   "cell_type": "markdown",
   "metadata": {},
   "source": [
    "集合类型实现了许多集合运算\n",
    "\n",
    "- a & b 计算交集\n",
    "- a | b 计算并集\n",
    "- a - b 计算差集\n",
    "- a ^ b 计算对称差集\n",
    "\n",
    "<span style=\"color: green\"> 巧妙使用集合运算可以减少代码行数，也能缩短 Python 程序的运行时间，同时还能少写一些循环和条件判断 </span>"
   ]
  },
  {
   "cell_type": "markdown",
   "metadata": {},
   "source": [
    "比如现在一个集合中存储了大量的电子邮件 haystack, 还有一个集合存储少量电子邮件 needles，想统计 needles 中多少邮件出现在 haystack 中"
   ]
  },
  {
   "cell_type": "markdown",
   "metadata": {},
   "source": [
    "- **方式一**"
   ]
  },
  {
   "cell_type": "code",
   "execution_count": null,
   "metadata": {},
   "outputs": [],
   "source": [
    "needles = haystack = {}\n",
    "found = len(needles & haystack)"
   ]
  },
  {
   "cell_type": "markdown",
   "metadata": {},
   "source": [
    "- **方式二**"
   ]
  },
  {
   "cell_type": "code",
   "execution_count": null,
   "metadata": {},
   "outputs": [],
   "source": [
    "found = 0\n",
    "for n in needles:\n",
    "    if n in haystack:\n",
    "        found += 1"
   ]
  },
  {
   "cell_type": "markdown",
   "metadata": {},
   "source": [
    "上面两种方式都可以实现统计，但是方法一的运行速度比方法二稍快\n",
    "\n",
    "如果上面的 needles 和 haystack 是任何可以迭代的对象，而不是集合，也可以快速构建\n",
    "\n",
    "```python\n",
    "found = len(set(needles) & set(haystack))\n",
    "\n",
    "# 或者另一种方式\n",
    "found = len(set(needles).intersection(haystack))\n",
    "```"
   ]
  },
  {
   "cell_type": "markdown",
   "metadata": {},
   "source": [
    "### set 字面量"
   ]
  },
  {
   "cell_type": "markdown",
   "metadata": {},
   "source": [
    "set 字面量的句法和集合的数学表示法几乎一样，如 {1}, {1, 2}, 空的set 必须写成`set()`\n",
    "\n",
    "> 如果空的 set 写成 {}, 则创建的是 dict\n",
    ">\n",
    "> 与调用构造函数相比（`set([1,2,3])`），<mark>使用 set 字面量句法不仅速度快, 而且更具可读性</mark>"
   ]
  },
  {
   "cell_type": "markdown",
   "metadata": {},
   "source": [
    "## 3.11 集合的实现方式对实践的影响"
   ]
  },
  {
   "cell_type": "markdown",
   "metadata": {},
   "source": [
    "set 和 frozenset 都使用哈希表实现\n",
    "\n",
    "- 集合元素必须是可哈希的对象\n",
    "- 元素的顺序取决于插入顺序，但是顺序对于集合没什么意义，也得不到保障"
   ]
  },
  {
   "cell_type": "markdown",
   "metadata": {},
   "source": [
    "`dict_keys` 和 `dict_items` 实现了一些特殊的方法，支持强大的集合运算：包括 & 交集、｜ 并集、- 差集 和 ^ 对称差集"
   ]
  },
  {
   "cell_type": "code",
   "execution_count": 14,
   "metadata": {},
   "outputs": [
    {
     "name": "stdout",
     "output_type": "stream",
     "text": [
      "{'d', 'b'}\n"
     ]
    }
   ],
   "source": [
    "# 使用 & 运算符轻易获取两个字典都有的key\n",
    "d1 = dict(a=1, b=2, c=3, d=4)\n",
    "d2 = dict(b=20, d=40, e=50)\n",
    "\n",
    "print(d1.keys() & d2.keys())"
   ]
  },
  {
   "cell_type": "markdown",
   "metadata": {},
   "source": [
    "可以看到，使用 `&` 运算符返回一个 set，而且字典视图的集合运算兼容 set 实例"
   ]
  },
  {
   "cell_type": "code",
   "execution_count": 15,
   "metadata": {},
   "outputs": [
    {
     "name": "stdout",
     "output_type": "stream",
     "text": [
      "{'a'}\n",
      "{'c', 'e', 'a', 'i', 'd', 'b'}\n"
     ]
    }
   ],
   "source": [
    "s = {'a', 'e', 'i'}\n",
    "\n",
    "print(d1.keys() & s)\n",
    "print(d1.keys() | s)"
   ]
  },
  {
   "cell_type": "markdown",
   "metadata": {},
   "source": [
    "> 仅当 dict 中的所有值均可哈希时，`dict_items` 视图才能当作集合使用\n",
    ">\n",
    "> 使用集合运算处理视图可以省去大量循环和条件判断"
   ]
  },
  {
   "cell_type": "markdown",
   "metadata": {},
   "source": [
    "## 3.13 小结"
   ]
  },
  {
   "cell_type": "markdown",
   "metadata": {},
   "source": [
    "- 字典是 Python 的基石，目前支持 **拆包，模式匹配和字典推导式\n",
    "- collections 模块提供了一些专门的映射 `defaultdict`, `ChainMap` 和 `Counter`\n",
    "\n",
    "- 多数映射具有两个强大的方法：`setdefault` 和 `update`\n",
    "  - `setdefault` 可以更新 存放可变值的项（如 list），从而避免再次搜索相同的 key\n",
    "  - `update` 可以批量插入或者覆盖项，项可以来自提供键值对的可迭代对象，也可以来自关键字参数\n",
    "- `__missing__` 方法是一个巧妙的狗子，利用它可以自定义 d[k] 句法\n",
    "\n",
    "\n",
    "---\n",
    "> PyCon 2017 \"The Dictionary Even Mightier\" 是 \"The Mighty Dictionarry\" 的续集，用动画演示哈希碰撞，同时作者的 \"Modern Dictionaries\" 对 dict 的内部机制剖析更为深入\n",
    "\n",
    "\n",
    "---\n",
    "小技巧\n",
    "\n",
    "> JSON几乎是Python句法的子集，除了 true, false, null 等值的拼写不一样外，几乎是兼容的\n",
    ">\n",
    "> 所以可以在 Python 的全局空间中为 Python 的 True, False 和 None 添加兼容 JSON 的别名，这样就可以直接把 JSON 粘到 Python 的控制台了"
   ]
  },
  {
   "cell_type": "code",
   "execution_count": 16,
   "metadata": {},
   "outputs": [
    {
     "name": "stdout",
     "output_type": "stream",
     "text": [
      "{'type': 'banana', 'avg_weight': 123.2, 'ediable_peel': False, 'issues': None}\n"
     ]
    }
   ],
   "source": [
    "true, false, null = True, False, None\n",
    "\n",
    "friut = {\n",
    "    \"type\": \"banana\",\n",
    "    \"avg_weight\": 123.2,\n",
    "    \"ediable_peel\": false,\n",
    "    \"issues\": null,\n",
    "}\n",
    "\n",
    "print(friut)"
   ]
  }
 ],
 "metadata": {
  "kernelspec": {
   "display_name": "Python 3",
   "language": "python",
   "name": "python3"
  },
  "language_info": {
   "codemirror_mode": {
    "name": "ipython",
    "version": 3
   },
   "file_extension": ".py",
   "mimetype": "text/x-python",
   "name": "python",
   "nbconvert_exporter": "python",
   "pygments_lexer": "ipython3",
   "version": "3.10.4"
  },
  "orig_nbformat": 4
 },
 "nbformat": 4,
 "nbformat_minor": 2
}
