{
 "cells": [
  {
   "cell_type": "markdown",
   "metadata": {},
   "source": [
    "# ch02. 序列\n",
    "> Python 中存在许多序列，如列表、元组、字典、集合、字符串等，并且具有很多的通用之处，可以对序列进行迭代，拼接，切片，排序等。\n",
    "\n",
    "<mark>第二章的主要内容有:</mark>\n",
    "- __列表推导式__ 和 __生成器__ 的基本用法\n",
    "- 元组的用法\n",
    "- **序列拆包** 、 **序列模式**\n",
    "- 专门的序列类型"
   ]
  },
  {
   "cell_type": "markdown",
   "metadata": {},
   "source": [
    "## 2.2 内置序列"
   ]
  },
  {
   "cell_type": "markdown",
   "metadata": {},
   "source": [
    "Python的标准库使用 C 语言实现了丰富的序列类型，比如<mark>容器序列</mark>（可以存不同类型的项，并且可以嵌套）、<mark>扁平序列</mark>（只能存一种简单类型的项）"
   ]
  },
  {
   "cell_type": "markdown",
   "metadata": {},
   "source": [
    "**容器序列**存放的是所包含对象的引用，对象可以是任何类型，如图所示。\n",
    "\n",
    "<div> <img src=\"./assets/ch02/img/container-sequence.png\" width=\"600\"/> </div>"
   ]
  },
  {
   "cell_type": "markdown",
   "metadata": {
    "editable": true,
    "slideshow": {
     "slide_type": ""
    },
    "tags": []
   },
   "source": [
    "**扁平序列**在自己的内存空间存储了所含内容的值，而不是存的引用的对象，如图所示。\n",
    "\n",
    "<div> <img src=\"./assets/ch02/img/flat-sequence.png\" width=\"600\"/> </div>"
   ]
  },
  {
   "cell_type": "markdown",
   "metadata": {},
   "source": [
    "任何 Python 对象在内存中都有一个标头，里面包含了对象的元数据。\n",
    "\n",
    "比如最简单的 float 类型，内存标头中存在这个 float 对象的值字段和两个元数据字段\n",
    "- ob_refcnt: 对象的引用技术\n",
    "- ob_type: 指向对象类型的指针\n",
    "- ob_fval: 一个 C 语言 double 类型值，存放 float 的值"
   ]
  },
  {
   "cell_type": "markdown",
   "metadata": {},
   "source": [
    "对于 float 类型的数组和元组，前者在计算机内存中的分布更加的紧凑，原因如下：\n",
    "\n",
    "- 数组整体是一个对象，存放了各个项的原始值\n",
    "- 而元组的每一项是一个对象，需要记录自身和各个对象"
   ]
  },
  {
   "cell_type": "markdown",
   "metadata": {},
   "source": [
    "__这些序列有些是可变的，而有些是不可变的__\n",
    "\n",
    "<mark>可变序列</mark>\n",
    "  - 例如：list, bytearray, array.array, collections.deque\n",
    "\n",
    "<mark>不可变序列</mark>\n",
    "  - 例如：tuple, str, bytes"
   ]
  },
  {
   "cell_type": "markdown",
   "metadata": {},
   "source": [
    "list 是最基本的序列类型，它是一种可变容器。\n",
    "\n",
    "可以通过列表推导式构造列表\n",
    "\n",
    "熟悉了列表推导式，就打开了生成器的大门"
   ]
  },
  {
   "cell_type": "markdown",
   "metadata": {},
   "source": [
    "## 2.3 列表推导式和生成器表达式\n",
    "\n",
    "> 可以使用列表推导式（针对列表）或者生成器表达式（其他序列类型）可以快速构造一个序列\n",
    "\n",
    "> 通过这两种方式，写出的代码不仅更容易理解，而且速度很快"
   ]
  },
  {
   "cell_type": "markdown",
   "metadata": {},
   "source": [
    "以下两段代码的意图是一样的，第一种方式使用的是 for 循环，第二种方式使用的是 列表推导式"
   ]
  },
  {
   "cell_type": "code",
   "execution_count": 1,
   "metadata": {},
   "outputs": [
    {
     "data": {
      "text/plain": [
       "[36, 162, 163, 165, 8364, 164]"
      ]
     },
     "execution_count": 1,
     "metadata": {},
     "output_type": "execute_result"
    }
   ],
   "source": [
    "symbols = '$¢£¥€¤'\n",
    "codes = []\n",
    "for symbol in symbols:\n",
    "    codes.append(ord(symbol))\n",
    "\n",
    "codes"
   ]
  },
  {
   "cell_type": "code",
   "execution_count": 2,
   "metadata": {},
   "outputs": [
    {
     "data": {
      "text/plain": [
       "[36, 162, 163, 165, 8364, 164]"
      ]
     },
     "execution_count": 2,
     "metadata": {},
     "output_type": "execute_result"
    }
   ],
   "source": [
    "symbols = '$¢£¥€¤'\n",
    "codes = [ord(symbol) for symbol in symbols]\n",
    "codes"
   ]
  },
  {
   "cell_type": "markdown",
   "metadata": {},
   "source": [
    "for 循环可以做很多事情，可以遍历一个序列，统计项数或者挑选部分项，也可以计算总数和平均数等\n",
    "\n",
    "列表推导式的代码可读性可能会更高，但是要 __防止滥用__\n",
    "\n",
    "<mark> 如果不打算使用生成的列表，就不要使用列表推导式语句</mark>\n",
    "\n",
    "<mark> 列表推导式应该保持简洁，若超过两行，最好把语句拆开，或者采用传统的 for 循环的写法 </mark>"
   ]
  },
  {
   "cell_type": "markdown",
   "metadata": {},
   "source": [
    "Python 会忽略 [], {}, () 内部的换行，因此，列表，列表推导式，元组，字典等结构完全可以分成几行来写，而不需要使用 __续行转义符__`\\`"
   ]
  },
  {
   "cell_type": "markdown",
   "metadata": {},
   "source": [
    "Python3 中的列表推导式、生成器表达式，以及类似的集合推导式和字典推导式，for 子句中的赋值的变量在局部作用域内"
   ]
  },
  {
   "cell_type": "markdown",
   "metadata": {},
   "source": [
    "<mark> \n",
    "\n",
    "- 使用「海象运算符」`:=` 赋值的变量在推导式或者生成器表达式返回后依旧可以访问，这个行为与函数内的局部变量的行为不同。\n",
    "\n",
    "- 海象运算符赋值的变量，其作用域限定在函数内，除非目标类变量使用 global 或者 nonlocal 声明 \n",
    "</mark>"
   ]
  },
  {
   "cell_type": "code",
   "execution_count": 3,
   "metadata": {},
   "outputs": [
    {
     "data": {
      "text/plain": [
       "'ABC'"
      ]
     },
     "execution_count": 3,
     "metadata": {},
     "output_type": "execute_result"
    }
   ],
   "source": [
    "x = 'ABC'\n",
    "codes = [ord(x) for x in x]\n",
    "x"
   ]
  },
  {
   "cell_type": "code",
   "execution_count": 4,
   "metadata": {},
   "outputs": [
    {
     "data": {
      "text/plain": [
       "[65, 66, 67]"
      ]
     },
     "execution_count": 4,
     "metadata": {},
     "output_type": "execute_result"
    }
   ],
   "source": [
    "codes"
   ]
  },
  {
   "cell_type": "code",
   "execution_count": 5,
   "metadata": {},
   "outputs": [
    {
     "data": {
      "text/plain": [
       "67"
      ]
     },
     "execution_count": 5,
     "metadata": {},
     "output_type": "execute_result"
    }
   ],
   "source": [
    "codes = [last := ord(c) for c in x]\n",
    "last"
   ]
  },
  {
   "cell_type": "markdown",
   "metadata": {},
   "source": [
    "可以看到，last 可以访问，因为 last 通过海象运算符修饰"
   ]
  },
  {
   "cell_type": "code",
   "execution_count": 6,
   "metadata": {},
   "outputs": [
    {
     "ename": "NameError",
     "evalue": "name 'c' is not defined",
     "output_type": "error",
     "traceback": [
      "\u001b[0;31m---------------------------------------------------------------------------\u001b[0m",
      "\u001b[0;31mNameError\u001b[0m                                 Traceback (most recent call last)",
      "Cell \u001b[0;32mIn[6], line 1\u001b[0m\n\u001b[0;32m----> 1\u001b[0m c\n",
      "\u001b[0;31mNameError\u001b[0m: name 'c' is not defined"
     ]
    }
   ],
   "source": [
    "c"
   ]
  },
  {
   "cell_type": "markdown",
   "metadata": {},
   "source": [
    "c 无法被访问，因为 c 定义在for循环内部，是个局部变量"
   ]
  },
  {
   "cell_type": "markdown",
   "metadata": {},
   "source": [
    "### 列表推导式和 map, filter 的比较"
   ]
  },
  {
   "cell_type": "markdown",
   "metadata": {},
   "source": [
    "<mark> 列表推导式涵盖了 map 和 filter 两个函数的功能，而且写出的代码不像 lambda 表达式那么晦涩难懂"
   ]
  },
  {
   "cell_type": "code",
   "execution_count": 7,
   "metadata": {},
   "outputs": [
    {
     "data": {
      "text/plain": [
       "[162, 163, 165, 8364, 164]"
      ]
     },
     "execution_count": 7,
     "metadata": {},
     "output_type": "execute_result"
    }
   ],
   "source": [
    "symbols = '$¢£¥€¤'\n",
    "beyond_ascii = [ord(s) for s in symbols if ord(s) > 127]\n",
    "beyond_ascii"
   ]
  },
  {
   "cell_type": "code",
   "execution_count": 8,
   "metadata": {},
   "outputs": [
    {
     "data": {
      "text/plain": [
       "[162, 163, 165, 8364, 164]"
      ]
     },
     "execution_count": 8,
     "metadata": {},
     "output_type": "execute_result"
    }
   ],
   "source": [
    "beyond_ascii = list(\n",
    "    filter(\n",
    "        lambda c: c > 127, \n",
    "        map(ord, symbols)\n",
    "    )\n",
    ")\n",
    "\n",
    "beyond_ascii"
   ]
  },
  {
   "cell_type": "markdown",
   "metadata": {},
   "source": [
    "上面两种方式第一种使用的是 __列表推导式__, 第二种方式使用的 map 和 filter，第二种方式不一定快"
   ]
  },
  {
   "cell_type": "code",
   "execution_count": 9,
   "metadata": {},
   "outputs": [
    {
     "name": "stdout",
     "output_type": "stream",
     "text": [
      "Help on class map in module builtins:\n",
      "\n",
      "class map(object)\n",
      " |  map(func, *iterables) --> map object\n",
      " |  \n",
      " |  Make an iterator that computes the function using arguments from\n",
      " |  each of the iterables.  Stops when the shortest iterable is exhausted.\n",
      " |  \n",
      " |  Methods defined here:\n",
      " |  \n",
      " |  __getattribute__(self, name, /)\n",
      " |      Return getattr(self, name).\n",
      " |  \n",
      " |  __iter__(self, /)\n",
      " |      Implement iter(self).\n",
      " |  \n",
      " |  __next__(self, /)\n",
      " |      Implement next(self).\n",
      " |  \n",
      " |  __reduce__(...)\n",
      " |      Return state information for pickling.\n",
      " |  \n",
      " |  ----------------------------------------------------------------------\n",
      " |  Static methods defined here:\n",
      " |  \n",
      " |  __new__(*args, **kwargs) from builtins.type\n",
      " |      Create and return a new object.  See help(type) for accurate signature.\n",
      "\n"
     ]
    }
   ],
   "source": [
    "help(map)"
   ]
  },
  {
   "cell_type": "code",
   "execution_count": 10,
   "metadata": {},
   "outputs": [
    {
     "name": "stdout",
     "output_type": "stream",
     "text": [
      "Help on class filter in module builtins:\n",
      "\n",
      "class filter(object)\n",
      " |  filter(function or None, iterable) --> filter object\n",
      " |  \n",
      " |  Return an iterator yielding those items of iterable for which function(item)\n",
      " |  is true. If function is None, return the items that are true.\n",
      " |  \n",
      " |  Methods defined here:\n",
      " |  \n",
      " |  __getattribute__(self, name, /)\n",
      " |      Return getattr(self, name).\n",
      " |  \n",
      " |  __iter__(self, /)\n",
      " |      Implement iter(self).\n",
      " |  \n",
      " |  __next__(self, /)\n",
      " |      Implement next(self).\n",
      " |  \n",
      " |  __reduce__(...)\n",
      " |      Return state information for pickling.\n",
      " |  \n",
      " |  ----------------------------------------------------------------------\n",
      " |  Static methods defined here:\n",
      " |  \n",
      " |  __new__(*args, **kwargs) from builtins.type\n",
      " |      Create and return a new object.  See help(type) for accurate signature.\n",
      "\n"
     ]
    }
   ],
   "source": [
    "help(filter)"
   ]
  },
  {
   "cell_type": "markdown",
   "metadata": {},
   "source": [
    "### 使用列表推导式构造多个可迭代对象的笛卡尔乘积"
   ]
  },
  {
   "cell_type": "markdown",
   "metadata": {},
   "source": [
    "> 比如有一个需求，有两种颜色，三种尺寸的衬衫，如何得到所有结果呢？"
   ]
  },
  {
   "cell_type": "code",
   "execution_count": 11,
   "metadata": {},
   "outputs": [
    {
     "data": {
      "text/plain": [
       "[('black', 'S'),\n",
       " ('black', 'M'),\n",
       " ('black', 'L'),\n",
       " ('white', 'S'),\n",
       " ('white', 'M'),\n",
       " ('white', 'L')]"
      ]
     },
     "execution_count": 11,
     "metadata": {},
     "output_type": "execute_result"
    }
   ],
   "source": [
    "colors = ['black', 'white']\n",
    "sizes = ['S', 'M', 'L']\n",
    "\n",
    "shirts = [\n",
    "    (color, size)\n",
    "    for color in colors\n",
    "    for size in sizes\n",
    "]\n",
    "\n",
    "shirts"
   ]
  },
  {
   "cell_type": "markdown",
   "metadata": {},
   "source": [
    "上面这种方式先按照颜色再按尺寸排序，生成一个元组列表"
   ]
  },
  {
   "cell_type": "code",
   "execution_count": 12,
   "metadata": {},
   "outputs": [
    {
     "name": "stdout",
     "output_type": "stream",
     "text": [
      "('black', 'S')\n",
      "('black', 'M')\n",
      "('black', 'L')\n",
      "('white', 'S')\n",
      "('white', 'M')\n",
      "('white', 'L')\n"
     ]
    }
   ],
   "source": [
    "for color in colors:\n",
    "    for size in sizes:\n",
    "        print((color, size))"
   ]
  },
  {
   "cell_type": "markdown",
   "metadata": {},
   "source": [
    "这种方式的两层循环的嵌套顺序与上面列表推导式的for子句的顺序一致"
   ]
  },
  {
   "cell_type": "markdown",
   "metadata": {},
   "source": [
    "如果想要先按照尺寸再按照颜色排序，只需要调整for子句的顺序，如下所示"
   ]
  },
  {
   "cell_type": "code",
   "execution_count": 14,
   "metadata": {},
   "outputs": [
    {
     "data": {
      "text/plain": [
       "[('black', 'S'),\n",
       " ('white', 'S'),\n",
       " ('black', 'M'),\n",
       " ('white', 'M'),\n",
       " ('black', 'L'),\n",
       " ('white', 'L')]"
      ]
     },
     "execution_count": 14,
     "metadata": {},
     "output_type": "execute_result"
    }
   ],
   "source": [
    "shirts = [(color, size)\n",
    "            for size in sizes\n",
    "            for color in colors\n",
    "]\n",
    "\n",
    "shirts"
   ]
  },
  {
   "cell_type": "markdown",
   "metadata": {},
   "source": [
    "### 生成器表达式"
   ]
  },
  {
   "cell_type": "markdown",
   "metadata": {},
   "source": [
    "列表推导式可以生成元组，数组，或者其他类型的序列"
   ]
  },
  {
   "cell_type": "markdown",
   "metadata": {},
   "source": [
    "但是 __生成器表达式__ 占用更少的内存，因为生成器表达式使用 **迭代器协议** 逐个产出项，而不是一下子构造整个列表"
   ]
  },
  {
   "cell_type": "markdown",
   "metadata": {},
   "source": [
    "<mark> 生成器表达式的语句和列表推导式几乎一样，只不过列表推导式使用的是`[]`，而生成器表达式使用的是`()`"
   ]
  },
  {
   "cell_type": "markdown",
   "metadata": {},
   "source": [
    "使用生成器表达式构建一个元组"
   ]
  },
  {
   "cell_type": "code",
   "execution_count": 16,
   "metadata": {},
   "outputs": [
    {
     "data": {
      "text/plain": [
       "(36, 162, 163, 165, 8364, 164)"
      ]
     },
     "execution_count": 16,
     "metadata": {},
     "output_type": "execute_result"
    }
   ],
   "source": [
    "symbols = '$¢£¥€¤'\n",
    "tuple(ord(s) for s in symbols)"
   ]
  },
  {
   "cell_type": "markdown",
   "metadata": {},
   "source": [
    "- <mark> 如果生成器是函数唯一的参数，不需要额外再使用()括起来 </mark>\n",
    "\n",
    "- 如果还有额外的参数，就需要在生成器表达式的两边加上圆括号"
   ]
  },
  {
   "cell_type": "code",
   "execution_count": 17,
   "metadata": {},
   "outputs": [
    {
     "data": {
      "text/plain": [
       "array('I', [36, 162, 163, 165, 8364, 164])"
      ]
     },
     "execution_count": 17,
     "metadata": {},
     "output_type": "execute_result"
    }
   ],
   "source": [
    "import array\n",
    "array.array('I', (ord(s) for s in symbols))"
   ]
  },
  {
   "cell_type": "markdown",
   "metadata": {},
   "source": [
    "使用生成器表达式计算笛卡尔积，打印不同色号和型号的衬衫"
   ]
  },
  {
   "cell_type": "code",
   "execution_count": 18,
   "metadata": {},
   "outputs": [
    {
     "name": "stdout",
     "output_type": "stream",
     "text": [
      "black S\n",
      "black M\n",
      "black L\n",
      "white S\n",
      "white M\n",
      "white L\n"
     ]
    }
   ],
   "source": [
    "colors = ['black', 'white']\n",
    "sizes = ['S', 'M', 'L']\n",
    "\n",
    "for shirt in (f'{c} {s}' for c in colors for s in sizes):\n",
    "    print(shirt)"
   ]
  },
  {
   "cell_type": "code",
   "execution_count": 21,
   "metadata": {},
   "outputs": [
    {
     "name": "stdout",
     "output_type": "stream",
     "text": [
      "<class 'generator'>\n",
      "black S\n",
      "black M\n",
      "black L\n",
      "white S\n",
      "white M\n",
      "white L\n"
     ]
    }
   ],
   "source": [
    "colors = ['black', 'white']\n",
    "sizes = ['S', 'M', 'L']\n",
    "shirts_g = ((c, s) for c in colors for s in sizes)\n",
    "print(type(shirts_g))\n",
    "for shirt in shirts_g:\n",
    "    print(f'{shirt[0]} {shirt[1]}')"
   ]
  },
  {
   "cell_type": "markdown",
   "metadata": {},
   "source": [
    "<mark> 生成器表达式产生的列表并不是在内存中构造的，而是生成器表达式一次产出一项， 提供给for循环。 </mark>\n",
    "\n",
    "如果两项都有超级多列表, 则使用生成器表达式计算笛卡尔乘积可以节省大量的内存，因为不同先构建 mxn 项的列表给 for 循环"
   ]
  },
  {
   "cell_type": "markdown",
   "metadata": {},
   "source": [
    "## 2.4 元组不仅仅是不可变列表"
   ]
  },
  {
   "cell_type": "markdown",
   "metadata": {},
   "source": [
    "> 元组有两个作用：\n",
    "- 作为不可变列表\n",
    "- 还可以用作 __没有字段名称的记录__"
   ]
  }
 ],
 "metadata": {
  "kernelspec": {
   "display_name": "Python 3 (ipykernel)",
   "language": "python",
   "name": "python3"
  },
  "language_info": {
   "codemirror_mode": {
    "name": "ipython",
    "version": 3
   },
   "file_extension": ".py",
   "mimetype": "text/x-python",
   "name": "python",
   "nbconvert_exporter": "python",
   "pygments_lexer": "ipython3",
   "version": "3.10.4"
  }
 },
 "nbformat": 4,
 "nbformat_minor": 4
}
