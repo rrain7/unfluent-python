{
 "cells": [
  {
   "cell_type": "markdown",
   "metadata": {},
   "source": [
    "# ch02. 序列\n",
    "> Python 中存在许多序列，如列表、元组、字典、集合、字符串等，并且具有很多的通用之处，可以对序列进行迭代，拼接，切片，排序等。\n",
    "\n",
    "<mark>第二章的主要内容有:</mark>\n",
    "- __列表推导式__ 和 __生成器__ 的基本用法\n",
    "- 元组的用法\n",
    "- **序列拆包** 、 **序列模式**\n",
    "- 专门的序列类型"
   ]
  },
  {
   "cell_type": "markdown",
   "metadata": {},
   "source": [
    "## 2.2 内置序列"
   ]
  },
  {
   "cell_type": "markdown",
   "metadata": {},
   "source": [
    "Python的标准库使用 C 语言实现了丰富的序列类型，比如<mark>容器序列</mark>（可以存不同类型的项，并且可以嵌套）、<mark>扁平序列</mark>（只能存一种简单类型的项）"
   ]
  },
  {
   "cell_type": "markdown",
   "metadata": {},
   "source": [
    "**容器序列**存放的是所包含对象的引用，对象可以是任何类型，如图所示。\n",
    "\n",
    "<div> <img src=\"./assets/ch02/img/container-sequence.png\" width=\"600\"/> </div>"
   ]
  },
  {
   "cell_type": "markdown",
   "metadata": {
    "editable": true,
    "slideshow": {
     "slide_type": ""
    },
    "tags": []
   },
   "source": [
    "**扁平序列**在自己的内存空间存储了所含内容的值，而不是存的引用的对象，如图所示。\n",
    "\n",
    "<div> <img src=\"./assets/ch02/img/flat-sequence.png\" width=\"600\"/> </div>"
   ]
  },
  {
   "cell_type": "markdown",
   "metadata": {},
   "source": [
    "任何 Python 对象在内存中都有一个标头，里面包含了对象的元数据。\n",
    "\n",
    "比如最简单的 float 类型，内存标头中存在这个 float 对象的值字段和两个元数据字段\n",
    "- ob_refcnt: 对象的引用技术\n",
    "- ob_type: 指向对象类型的指针\n",
    "- ob_fval: 一个 C 语言 double 类型值，存放 float 的值"
   ]
  },
  {
   "cell_type": "markdown",
   "metadata": {},
   "source": [
    "对于 float 类型的数组和元组，前者在计算机内存中的分布更加的紧凑，原因如下：\n",
    "\n",
    "- 数组整体是一个对象，存放了各个项的原始值\n",
    "- 而元组的每一项是一个对象，需要记录自身和各个对象"
   ]
  },
  {
   "cell_type": "markdown",
   "metadata": {},
   "source": [
    "__这些序列有些是可变的，而有些是不可变的__\n",
    "\n",
    "<mark>可变序列</mark>\n",
    "  - 例如：list, bytearray, array.array, collections.deque\n",
    "\n",
    "<mark>不可变序列</mark>\n",
    "  - 例如：tuple, str, bytes"
   ]
  }
 ],
 "metadata": {
  "kernelspec": {
   "display_name": "Python 3 (ipykernel)",
   "language": "python",
   "name": "python3"
  },
  "language_info": {
   "codemirror_mode": {
    "name": "ipython",
    "version": 3
   },
   "file_extension": ".py",
   "mimetype": "text/x-python",
   "name": "python",
   "nbconvert_exporter": "python",
   "pygments_lexer": "ipython3",
   "version": "3.11.4"
  }
 },
 "nbformat": 4,
 "nbformat_minor": 4
}
