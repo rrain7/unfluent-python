{
 "cells": [
  {
   "cell_type": "markdown",
   "metadata": {},
   "source": [
    "# ch07. 函数是一等对象"
   ]
  },
  {
   "cell_type": "markdown",
   "metadata": {},
   "source": [
    "## 7.2 把函数视为对象"
   ]
  },
  {
   "cell_type": "markdown",
   "metadata": {},
   "source": [
    "> Python 的函数就是对象"
   ]
  },
  {
   "cell_type": "code",
   "execution_count": 2,
   "metadata": {},
   "outputs": [
    {
     "name": "stdout",
     "output_type": "stream",
     "text": [
      "12696403353658275925965100847566516959580321051449436762275840000000000000\n"
     ]
    }
   ],
   "source": [
    "def factorial(n):\n",
    "    \"\"\"返回 n! \"\"\"\n",
    "    return 1 if n < 2 else n * factorial(n - 1)\n",
    "\n",
    "res = factorial(55)\n",
    "print(res)"
   ]
  },
  {
   "cell_type": "markdown",
   "metadata": {},
   "source": [
    "创建了一个 `factorial` 的函数"
   ]
  },
  {
   "cell_type": "code",
   "execution_count": 2,
   "metadata": {},
   "outputs": [
    {
     "name": "stdout",
     "output_type": "stream",
     "text": [
      "返回 n! \n"
     ]
    }
   ],
   "source": [
    "print(factorial.__doc__)"
   ]
  },
  {
   "cell_type": "markdown",
   "metadata": {},
   "source": [
    "`__doc__` 是函数**对象**众多属性中的一个\n",
    "\n",
    "> `__doc__` 属性用于生成对象的帮助文本\n",
    "> 可以使用 help(factorial) 得到 `__doc__` 属性的内容"
   ]
  },
  {
   "cell_type": "code",
   "execution_count": 4,
   "metadata": {},
   "outputs": [
    {
     "name": "stdout",
     "output_type": "stream",
     "text": [
      "Help on function factorial in module __main__:\n",
      "\n",
      "factorial(n)\n",
      "    返回 n!\n",
      "\n"
     ]
    }
   ],
   "source": [
    "help(factorial)"
   ]
  },
  {
   "cell_type": "code",
   "execution_count": 3,
   "metadata": {},
   "outputs": [
    {
     "data": {
      "text/plain": [
       "function"
      ]
     },
     "execution_count": 3,
     "metadata": {},
     "output_type": "execute_result"
    }
   ],
   "source": [
    "type(factorial)"
   ]
  },
  {
   "cell_type": "markdown",
   "metadata": {},
   "source": [
    "factorial 是 function **类** 的实例"
   ]
  },
  {
   "cell_type": "markdown",
   "metadata": {},
   "source": [
    "下面的示例，可以把 factorial 函数赋值给变量 fact，然后通过变量名调用\n",
    "\n",
    "还可以把 factorial 函数作为参数传给 map 函数。\n",
    "\n",
    "<mark>`map(function, iterable)` 调用会返回一个可迭代对象，所含的项是把第一个参数（一个函数）应用到第二个参数（一个可迭代对象）中各个元素得到的结果。</mark>"
   ]
  },
  {
   "cell_type": "code",
   "execution_count": 3,
   "metadata": {},
   "outputs": [
    {
     "name": "stdout",
     "output_type": "stream",
     "text": [
      "<function factorial at 0x104a18a40>\n",
      "120\n"
     ]
    }
   ],
   "source": [
    "fact = factorial\n",
    "print(fact)\n",
    "\n",
    "print(fact(5))"
   ]
  },
  {
   "cell_type": "code",
   "execution_count": 4,
   "metadata": {},
   "outputs": [
    {
     "data": {
      "text/plain": [
       "<map at 0x10483e230>"
      ]
     },
     "execution_count": 4,
     "metadata": {},
     "output_type": "execute_result"
    }
   ],
   "source": [
    "map(factorial, range(6))"
   ]
  },
  {
   "cell_type": "markdown",
   "metadata": {},
   "source": [
    "可以使用 `factorial` 或 `fact` 函数作为第一个参数，然后使用 `range(x)` 作为可迭代对象，通过 list 将 map 转换为一个列表"
   ]
  },
  {
   "cell_type": "code",
   "execution_count": 5,
   "metadata": {},
   "outputs": [
    {
     "data": {
      "text/plain": [
       "[1, 1, 2, 6, 24, 120, 720, 5040, 40320, 362880, 3628800]"
      ]
     },
     "execution_count": 5,
     "metadata": {},
     "output_type": "execute_result"
    }
   ],
   "source": [
    "list(map(factorial, range(11)))"
   ]
  },
  {
   "cell_type": "code",
   "execution_count": 6,
   "metadata": {},
   "outputs": [
    {
     "data": {
      "text/plain": [
       "[1, 1, 2, 6, 24, 120]"
      ]
     },
     "execution_count": 6,
     "metadata": {},
     "output_type": "execute_result"
    }
   ],
   "source": [
    "list(map(fact, range(6)))"
   ]
  },
  {
   "cell_type": "markdown",
   "metadata": {},
   "source": [
    "有了一等函数，可以使用函数式风格编程"
   ]
  },
  {
   "cell_type": "markdown",
   "metadata": {},
   "source": [
    "## 7.3 高阶函数"
   ]
  },
  {
   "cell_type": "markdown",
   "metadata": {},
   "source": [
    "> 高阶函数: 接受函数为参数或者把函数作为返回结果的函数是高阶函数"
   ]
  },
  {
   "cell_type": "markdown",
   "metadata": {},
   "source": [
    "比如：上面的 `map` 函数就是一个高阶函数\n",
    "\n",
    "内置的 `sorted` 也是，通过可选的 key 参数提供一个函数，应用到每一项上进行排序。如果想根据单词长度排序，只需把 len 函数传给 key 参数，如下所示"
   ]
  },
  {
   "cell_type": "code",
   "execution_count": 9,
   "metadata": {},
   "outputs": [
    {
     "name": "stdout",
     "output_type": "stream",
     "text": [
      "['fig', 'apple', 'cherry', 'banana', 'raspberry', 'strawberry']\n",
      "['strawberry', 'raspberry', 'cherry', 'banana', 'apple', 'fig']\n"
     ]
    }
   ],
   "source": [
    "fruits = ['strawberry', 'fig', 'apple', 'cherry', 'raspberry', 'banana']\n",
    "print(sorted(fruits, key=len))\n",
    "\n",
    "print(sorted(fruits, key=len, reverse=True))"
   ]
  },
  {
   "cell_type": "markdown",
   "metadata": {},
   "source": [
    "任何**单参数**函数都能作为 key 参数的值。\n",
    "\n",
    "比如：为了创建押韵词典，可以把各个单词反过来拼写，然后排序"
   ]
  },
  {
   "cell_type": "code",
   "execution_count": 10,
   "metadata": {},
   "outputs": [
    {
     "name": "stdout",
     "output_type": "stream",
     "text": [
      "gnitset\n"
     ]
    }
   ],
   "source": [
    "def reverse(word):\n",
    "    return word[::-1]\n",
    "\n",
    "print(reverse(\"testing\"))"
   ]
  },
  {
   "cell_type": "code",
   "execution_count": 11,
   "metadata": {},
   "outputs": [
    {
     "name": "stdout",
     "output_type": "stream",
     "text": [
      "['banana', 'apple', 'fig', 'raspberry', 'strawberry', 'cherry']\n"
     ]
    }
   ],
   "source": [
    "print(sorted(fruits, key=reverse))"
   ]
  },
  {
   "cell_type": "markdown",
   "metadata": {},
   "source": [
    "<span style=\"color: green\"> 注意：列表内的单词没有变，只是把反向拼写当作了排序的条件，因此各种浆果都排在了一起 </span>"
   ]
  },
  {
   "cell_type": "markdown",
   "metadata": {},
   "source": [
    "> 函数式编程中，最为人熟悉的高阶函数有 map, filter, reduce, 和 apply\n",
    ">\n",
    "> apply 函数已经被移除\n",
    ">\n",
    "> `map`, `filter`, `reduce` 这三个高阶函数还能用到，不过有更好的替代品"
   ]
  },
  {
   "cell_type": "markdown",
   "metadata": {},
   "source": [
    "函数式编程通常会提供 map, filter 和 reduce 这三个高阶函数\n",
    "\n",
    "Python3 中，map 和 filter 还是内置函数，但是由于引入了**列表推导式**和**生成器表达式**，就没有那么重要了\n",
    "\n",
    "<mark>列表推导式或者生成器表达式兼具 map 和 filter 这两个函数的功能，而且代码可读性更高</mark>"
   ]
  },
  {
   "cell_type": "code",
   "execution_count": 13,
   "metadata": {},
   "outputs": [
    {
     "name": "stdout",
     "output_type": "stream",
     "text": [
      "[1, 1, 2, 6, 24, 120]\n",
      "[1, 1, 2, 6, 24, 120]\n"
     ]
    }
   ],
   "source": [
    "print(list(map(factorial, range(6))))\n",
    "\n",
    "print([factorial(n) for n in range(6)])"
   ]
  },
  {
   "cell_type": "code",
   "execution_count": 14,
   "metadata": {},
   "outputs": [
    {
     "name": "stdout",
     "output_type": "stream",
     "text": [
      "[1, 6, 120]\n",
      "[1, 6, 120]\n"
     ]
    }
   ],
   "source": [
    "print(list(map(factorial, filter(lambda n: n % 2, range(6)))))\n",
    "\n",
    "print([factorial(n) for n in range(6) if n % 2])"
   ]
  },
  {
   "cell_type": "markdown",
   "metadata": {},
   "source": [
    "> 在 Python3 中，`map` 和 `filter` 返回生成器（一种迭代器），因此现在直接的替代品是**生成器表达式**\n",
    ">\n",
    "> 在 Python3 中，reduce 被放在了 `functools` 模块中了，这个函数常用于求和，但是内置的 `sum` 在执行求和时效果更好"
   ]
  },
  {
   "cell_type": "code",
   "execution_count": 15,
   "metadata": {},
   "outputs": [
    {
     "name": "stdout",
     "output_type": "stream",
     "text": [
      "4950\n"
     ]
    }
   ],
   "source": [
    "from functools import reduce\n",
    "from operator import add\n",
    "\n",
    "print(reduce(add, range(100)))"
   ]
  },
  {
   "cell_type": "code",
   "execution_count": 16,
   "metadata": {},
   "outputs": [
    {
     "name": "stdout",
     "output_type": "stream",
     "text": [
      "4950\n"
     ]
    }
   ],
   "source": [
    "print(sum(range(100)))"
   ]
  },
  {
   "cell_type": "markdown",
   "metadata": {},
   "source": [
    "`sum` 执行同一个操作，无需导入并调用 `reduce` 和 `add`\n",
    "\n",
    "`sum` 和 `reduce` 的整体运作方式是一样的，把某个操作连续应用到序列中的项上，累计前一个结果，把一系列值规约成一个值"
   ]
  },
  {
   "cell_type": "markdown",
   "metadata": {},
   "source": [
    "<span style=\"color: green\">内置的归约函数还有 `all` 和 `any` </span>"
   ]
  },
  {
   "cell_type": "markdown",
   "metadata": {},
   "source": [
    "- `all(iterable)` \n",
    "  - `iterable` 中没有假值时返回 True, `all([])` 返回 True\n",
    "- `any(iterable)`\n",
    "  - 只要 `iterable` 中有元素是真值就返回 `True`, `any([])` 返回 False"
   ]
  },
  {
   "cell_type": "markdown",
   "metadata": {},
   "source": [
    "## 7.4 匿名函数"
   ]
  },
  {
   "cell_type": "markdown",
   "metadata": {},
   "source": [
    "`lambda` 关键字使用 Python 表达式创建匿名函数\n",
    "\n",
    "lambda 函数主体中不能有 while, try d等语句"
   ]
  },
  {
   "cell_type": "markdown",
   "metadata": {},
   "source": [
    "**高阶函数的参数列表中最适合使用匿名函数**"
   ]
  },
  {
   "cell_type": "code",
   "execution_count": 1,
   "metadata": {},
   "outputs": [
    {
     "data": {
      "text/plain": [
       "['banana', 'apple', 'fig', 'raspberry', 'strawberry', 'cherry']"
      ]
     },
     "execution_count": 1,
     "metadata": {},
     "output_type": "execute_result"
    }
   ],
   "source": [
    "fruits = ['strawberry', 'fig', 'apple', 'cherry', 'raspberry', 'banana']\n",
    "sorted(fruits, key=lambda word: word[::-1])"
   ]
  },
  {
   "cell_type": "markdown",
   "metadata": {},
   "source": [
    "<span style=\"color: green\">lambda 表达式重构秘诀</span>\n",
    "\n",
    "1. 编写注释，说明 lambda 表达式的作用\n",
    "2. 找出一个名称概括注释\n",
    "3. 把 lambda 表达式转换为 def 语句，使用那个名称定义函数\n",
    "4. 删除注释"
   ]
  },
  {
   "cell_type": "markdown",
   "metadata": {},
   "source": [
    "## 7.5 九种可调用对象"
   ]
  },
  {
   "cell_type": "markdown",
   "metadata": {},
   "source": [
    "调用运算符(`()`)除了函数，还可以应用到其他对象上。\n",
    "\n",
    "如果想判断对象是否可以调用，可以使用内置的`callable()`函数"
   ]
  },
  {
   "cell_type": "markdown",
   "metadata": {},
   "source": [
    "Python 3.9 起可用的 9 种可调用对象\n",
    "\n",
    "- 用户定义的函数\n",
    "  - 使用 `def` 语句或 `lambda` 表达式创建的函数\n",
    "- 内置函数\n",
    "  - 如 `len`，`time.strftime`\n",
    "- 内置方法\n",
    "  - 使用 C 语言实现的方法，例如: `dict.get`\n",
    "- 方法\n",
    "  - 在类主体中定义的函数\n",
    "- 类\n",
    "  - 调用类时运行类的 `__new__` 方法创建一个实例，然后运行 `__init__` 方法，初始化实例，再把实例返回给调用方。**Python 中没有 new 运算符，调用类就相当于调用函数**\n",
    "- 类的实例\n",
    "  - 如果类定义了 `__call__` 方法，那么它的实例可以作为函数调用\n",
    "- 生成器函数\n",
    "  - 主体中有 `yield` 关键字的函数或方法，调用生成器函数返回一个生成器对象\n",
    "- 原生协程函数\n",
    "  - 使用 `async def` 定义的函数或者方法。调用原生协程函数返回一个协程对象\n",
    "- 异步生成器函数\n",
    "  - 使用 `async def` 定义，而且主体中有 `yield` 关键字的函数或方法。调用异步生成器函数返回一个异步生成器，供 `async for` 使用\n"
   ]
  },
  {
   "cell_type": "markdown",
   "metadata": {},
   "source": [
    "> 生成器，原生协程和异步生成器函数的返回值不是应用程序数据，而是需要进一步处理的对象，要不产出应用程序数据，要不执行某种操作"
   ]
  },
  {
   "cell_type": "markdown",
   "metadata": {},
   "source": [
    "## 7.6 用户定义的可调用类型"
   ]
  },
  {
   "cell_type": "markdown",
   "metadata": {},
   "source": [
    "> 不仅 Python 函数是真正的对象，而且任何 Python 对象都可以表现得像函数。为此，只要实现 `__call__` 实例方法"
   ]
  },
  {
   "cell_type": "markdown",
   "metadata": {},
   "source": [
    "以下示例实现的类实例可以使用任何可迭代对象构建"
   ]
  },
  {
   "cell_type": "code",
   "execution_count": 2,
   "metadata": {},
   "outputs": [],
   "source": [
    "import random\n",
    "\n",
    "class BingoCage:\n",
    "    def __init__(self, item) -> None:\n",
    "        self._item = list(item)     # *1 \n",
    "        random.shuffle(self._item)  # *2\n",
    "        \n",
    "    def pick(self):                 # *3\n",
    "        try:\n",
    "            return self._item.pop()\n",
    "        except IndexError:\n",
    "            _msg = 'pick from empty BingoCage'\n",
    "            raise LookupError(_msg) # *4\n",
    "    \n",
    "    def __call__(self):             # *5\n",
    "        return self.pick()"
   ]
  },
  {
   "cell_type": "markdown",
   "metadata": {},
   "source": [
    "*1 `__init__` 接受任何可迭代对象。在本地构建一个副本，防止传入的列表参数有什么意外的副作用\n",
    "\n",
    "*3 主要方法\n",
    "\n",
    "*4 若 `self._item` 为空，就抛出异常，并给出错误消息\n",
    "\n",
    "*5 <mark>`bingo()` 是 `bingo.pick()` 的快捷方式</mark>"
   ]
  },
  {
   "cell_type": "code",
   "execution_count": 3,
   "metadata": {},
   "outputs": [
    {
     "name": "stdout",
     "output_type": "stream",
     "text": [
      "1\n",
      "2\n",
      "True\n"
     ]
    }
   ],
   "source": [
    "bingo = BingoCage(range(3))\n",
    "\n",
    "print(bingo.pick())\n",
    "\n",
    "print(bingo())\n",
    "\n",
    "print(callable(bingo))"
   ]
  },
  {
   "cell_type": "markdown",
   "metadata": {},
   "source": [
    "注意看，bingo 实例可以作为函数调用，而且内置的 `callable()` 判定它是可调用对象"
   ]
  },
  {
   "cell_type": "markdown",
   "metadata": {},
   "source": [
    "实现 `__call__` 方法是创建类似函数的**对象**的简易方式，此时必须在内部维护一个状态，可以多次调用\n",
    "\n",
    "`__call__` 的另一个用处是实现装饰器。装饰器必须可以调用，而且有时候需要在多次调用之间「记住」某些事"
   ]
  },
  {
   "cell_type": "markdown",
   "metadata": {},
   "source": [
    "## 7.7 从位置参数到仅限关键字参数"
   ]
  },
  {
   "cell_type": "markdown",
   "metadata": {},
   "source": [
    "> Python 函数最好的功能之一是提供了极为灵活的参数处理机制。\n",
    ">\n",
    "> 调用函数时，可以使用 `*` 和 `**` 拆包可迭代对象，映射各个参数"
   ]
  },
  {
   "cell_type": "markdown",
   "metadata": {},
   "source": [
    "tag 函数用于生成 HTML 标签。可以使用名为 class_ 的仅限关键字参数传入 \"class\" 属性，这是一种变通方法，因为 'class' 是 Python 中的关键字"
   ]
  },
  {
   "cell_type": "code",
   "execution_count": 1,
   "metadata": {},
   "outputs": [],
   "source": [
    "def tag(name, *content, class_=None, **attrs):\n",
    "    if class_ is not None:\n",
    "        attrs['class'] = class_\n",
    "\n",
    "    attr_pairs = (f' {attr}=\"{value}\"'\n",
    "                  for attr, value in sorted(attrs.items()))\n",
    "    attr_str = ''.join(attr_pairs)\n",
    "    if content:\n",
    "        elements = (f'<{name}{attr_str}>{c}</{name}>' for c in content)\n",
    "        return '\\n'.join(elements)\n",
    "    return f\"<{name}{attr_str} />\""
   ]
  },
  {
   "cell_type": "code",
   "execution_count": 2,
   "metadata": {},
   "outputs": [
    {
     "name": "stdout",
     "output_type": "stream",
     "text": [
      "<br />\n",
      "<p>hello</p>\n",
      "<p>hello</p>\n",
      "<p>world</p>\n"
     ]
    }
   ],
   "source": [
    "print(tag('br'))\n",
    "\n",
    "print(tag('p', 'hello'))\n",
    "\n",
    "print(tag('p', 'hello', 'world'))"
   ]
  },
  {
   "cell_type": "markdown",
   "metadata": {},
   "source": [
    "- 传入单个位置参数，生成一个指定名称的空标签\n",
    "- 第一个参数后面的任意数量的参数被 *content 捕获，存入一个元组"
   ]
  },
  {
   "cell_type": "code",
   "execution_count": 3,
   "metadata": {},
   "outputs": [
    {
     "data": {
      "text/plain": [
       "'<p id=\"33\">hello</p>'"
      ]
     },
     "execution_count": 3,
     "metadata": {},
     "output_type": "execute_result"
    }
   ],
   "source": [
    "tag('p', 'hello', id=33)"
   ]
  },
  {
   "cell_type": "markdown",
   "metadata": {},
   "source": [
    "没有明确指定名称的关键字参数被 `**attrs` 捕获，存入一个字典"
   ]
  },
  {
   "cell_type": "code",
   "execution_count": 4,
   "metadata": {},
   "outputs": [
    {
     "data": {
      "text/plain": [
       "'<p class=\"sidebar\">hello</p>\\n<p class=\"sidebar\">world</p>'"
      ]
     },
     "execution_count": 4,
     "metadata": {},
     "output_type": "execute_result"
    }
   ],
   "source": [
    "tag('p', 'hello', 'world', class_='sidebar')"
   ]
  },
  {
   "cell_type": "markdown",
   "metadata": {},
   "source": [
    "`class_` 参数只能作为关键字参数传入"
   ]
  },
  {
   "cell_type": "code",
   "execution_count": 5,
   "metadata": {},
   "outputs": [
    {
     "data": {
      "text/plain": [
       "'<img content=\"testing\" />'"
      ]
     },
     "execution_count": 5,
     "metadata": {},
     "output_type": "execute_result"
    }
   ],
   "source": [
    "tag(content='testing', name='img')"
   ]
  },
  {
   "cell_type": "markdown",
   "metadata": {},
   "source": [
    "第一个位置参数也能作为关键字参数传入"
   ]
  },
  {
   "cell_type": "code",
   "execution_count": 6,
   "metadata": {},
   "outputs": [
    {
     "data": {
      "text/plain": [
       "'<img class=\"framed\" src=\"sunset.jpg\" title=\"Sunset Boulevard\" />'"
      ]
     },
     "execution_count": 6,
     "metadata": {},
     "output_type": "execute_result"
    }
   ],
   "source": [
    "my_tag = {\n",
    "    \"name\": \"img\",\n",
    "    \"title\": \"Sunset Boulevard\",\n",
    "    \"src\": \"sunset.jpg\",\n",
    "    \"class\": \"framed\"\n",
    "}\n",
    "\n",
    "tag(**my_tag)"
   ]
  },
  {
   "cell_type": "markdown",
   "metadata": {},
   "source": [
    "在 my_tag 前面加上 `**`，字典中所有项作为参数依次传入，同名键绑定到对应的具名参数上，余下的则被 `**attrs` 捕获"
   ]
  },
  {
   "cell_type": "markdown",
   "metadata": {},
   "source": [
    "> 如果不想支持数量不定的位置参数，但是想支持仅限关键字参数，可以在签名中放一个 `*`"
   ]
  },
  {
   "cell_type": "code",
   "execution_count": 7,
   "metadata": {},
   "outputs": [
    {
     "data": {
      "text/plain": [
       "(1, 2)"
      ]
     },
     "execution_count": 7,
     "metadata": {},
     "output_type": "execute_result"
    }
   ],
   "source": [
    "def f(a, *, b):\n",
    "    return a, b\n",
    "\n",
    "f(1, b=2)"
   ]
  },
  {
   "cell_type": "code",
   "execution_count": 9,
   "metadata": {},
   "outputs": [
    {
     "ename": "TypeError",
     "evalue": "f() takes 1 positional argument but 2 were given",
     "output_type": "error",
     "traceback": [
      "\u001b[0;31m---------------------------------------------------------------------------\u001b[0m",
      "\u001b[0;31mTypeError\u001b[0m                                 Traceback (most recent call last)",
      "\u001b[1;32m/Users/lxl/dev/codes/unfluent-python/07-func.ipynb Cell 69\u001b[0m line \u001b[0;36m1\n\u001b[0;32m----> <a href='vscode-notebook-cell:/Users/lxl/dev/codes/unfluent-python/07-func.ipynb#Y133sZmlsZQ%3D%3D?line=0'>1</a>\u001b[0m f(\u001b[39m1\u001b[39;49m, \u001b[39m2\u001b[39;49m)\n",
      "\u001b[0;31mTypeError\u001b[0m: f() takes 1 positional argument but 2 were given"
     ]
    }
   ],
   "source": [
    "f(1, 2)"
   ]
  },
  {
   "cell_type": "markdown",
   "metadata": {},
   "source": [
    "---"
   ]
  },
  {
   "cell_type": "markdown",
   "metadata": {},
   "source": [
    "**仅限位置参数**\n",
    "\n",
    "从 3.8 开始，用户定义的函数签名可以指定仅限位置参数。\n",
    "\n",
    "比如：`divmod(a, b)` 只能使用位置参数调用，不能写成 `divmod(a=10, b=4)`"
   ]
  },
  {
   "cell_type": "markdown",
   "metadata": {},
   "source": [
    "> 下面的例子来自 \"What's New In Python 3.8\", 展示了如何模拟 `divmod` 的参数行为"
   ]
  },
  {
   "cell_type": "code",
   "execution_count": null,
   "metadata": {},
   "outputs": [],
   "source": [
    "def divmod(a, b, /):\n",
    "    return (a//b, a % b)"
   ]
  },
  {
   "cell_type": "markdown",
   "metadata": {},
   "source": [
    "> / 左边均是仅限位置参数，在 / 后面，可以指定其他参数，处理方式一同往常"
   ]
  },
  {
   "cell_type": "markdown",
   "metadata": {},
   "source": [
    "---"
   ]
  },
  {
   "cell_type": "markdown",
   "metadata": {},
   "source": [
    "## 7.8 支持函数式编程的包"
   ]
  },
  {
   "cell_type": "markdown",
   "metadata": {},
   "source": [
    "### `operator` 模块"
   ]
  },
  {
   "cell_type": "markdown",
   "metadata": {},
   "source": [
    "> 函数式编程中，经常需要把算术运算符当作函数使用。\n",
    ">\n",
    "> 例如，不使用递归计算阶乘\n",
    ">\n",
    "> 比如对一些数进行求积，可以使用 `reduce` 函数"
   ]
  },
  {
   "cell_type": "code",
   "execution_count": 11,
   "metadata": {},
   "outputs": [],
   "source": [
    "from functools import reduce\n",
    "\n",
    "def factorial(n):\n",
    "    return reduce(lambda a, b: a * b, range(1, n+1))"
   ]
  },
  {
   "cell_type": "code",
   "execution_count": 13,
   "metadata": {},
   "outputs": [
    {
     "data": {
      "text/plain": [
       "2432902008176640000"
      ]
     },
     "execution_count": 13,
     "metadata": {},
     "output_type": "execute_result"
    }
   ],
   "source": [
    "factorial(20)"
   ]
  },
  {
   "cell_type": "code",
   "execution_count": 14,
   "metadata": {},
   "outputs": [],
   "source": [
    "from functools import reduce\n",
    "from operator import mul\n",
    "\n",
    "def fact(n):\n",
    "    return reduce(mul, range(1, n+1))"
   ]
  },
  {
   "cell_type": "code",
   "execution_count": 15,
   "metadata": {},
   "outputs": [
    {
     "data": {
      "text/plain": [
       "2432902008176640000"
      ]
     },
     "execution_count": 15,
     "metadata": {},
     "output_type": "execute_result"
    }
   ],
   "source": [
    "fact(20)"
   ]
  },
  {
   "cell_type": "markdown",
   "metadata": {},
   "source": [
    "---"
   ]
  },
  {
   "cell_type": "markdown",
   "metadata": {},
   "source": [
    "`operator` 模块中还有一类函数，<mark>工厂函数 `itemgetter` 和 `attrgetter` </mark>，能替代从序列中取出项或者读取对象属性的 `lambda` 表达式"
   ]
  },
  {
   "cell_type": "markdown",
   "metadata": {},
   "source": [
    "<span style=\"color: green\">`itemgetter` 的常见用途: 根据元组的某个字段对元组列表进行排序</span>"
   ]
  },
  {
   "cell_type": "code",
   "execution_count": 1,
   "metadata": {},
   "outputs": [
    {
     "name": "stdout",
     "output_type": "stream",
     "text": [
      "('Delhi NCR', 'IN', 21.935, (28.613889, 77.208889))\n",
      "('Tokyo', 'JP', 36.933, (35.689722, 139.691667))\n",
      "('Mexico City', 'MX', 20.142, (19.433333, -99.133333))\n",
      "('New York-Newark', 'US', 20.104, (40.808611, -74.020386))\n"
     ]
    }
   ],
   "source": [
    "metro_data = [\n",
    "    ('Tokyo', 'JP', 36.933, (35.689722, 139.691667)),\n",
    "    ('Delhi NCR', 'IN', 21.935, (28.613889, 77.208889)),\n",
    "    ('Mexico City', 'MX', 20.142, (19.433333, -99.133333)),\n",
    "    ('New York-Newark', 'US', 20.104, (40.808611, -74.020386)),\n",
    "]\n",
    "\n",
    "from operator import itemgetter\n",
    "from pprint import pprint\n",
    "\n",
    "for city in sorted(metro_data, key=itemgetter(1)):\n",
    "    pprint(city)"
   ]
  },
  {
   "cell_type": "markdown",
   "metadata": {},
   "source": [
    "---"
   ]
  },
  {
   "cell_type": "code",
   "execution_count": 3,
   "metadata": {},
   "outputs": [
    {
     "name": "stdout",
     "output_type": "stream",
     "text": [
      "('JP', 'Tokyo')\n",
      "('IN', 'Delhi NCR')\n",
      "('MX', 'Mexico City')\n",
      "('US', 'New York-Newark')\n"
     ]
    }
   ],
   "source": [
    "cc_name = itemgetter(1, 0)\n",
    "for city in metro_data:\n",
    "    pprint(cc_name(city))"
   ]
  },
  {
   "cell_type": "markdown",
   "metadata": {},
   "source": [
    "<mark> 如果传给 `itemgetter` 多个索引参数，那么 `itemgetter` 构建的函数就会返回提取的值构成的元组， 以方便根据多个 key 排序 </mark>"
   ]
  },
  {
   "cell_type": "markdown",
   "metadata": {},
   "source": []
  }
 ],
 "metadata": {
  "kernelspec": {
   "display_name": "Python 3",
   "language": "python",
   "name": "python3"
  },
  "language_info": {
   "codemirror_mode": {
    "name": "ipython",
    "version": 3
   },
   "file_extension": ".py",
   "mimetype": "text/x-python",
   "name": "python",
   "nbconvert_exporter": "python",
   "pygments_lexer": "ipython3",
   "version": "3.11.1"
  }
 },
 "nbformat": 4,
 "nbformat_minor": 2
}
