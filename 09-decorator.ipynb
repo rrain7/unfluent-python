{
 "cells": [
  {
   "cell_type": "markdown",
   "metadata": {},
   "source": [
    "# ch09. 装饰器 和 闭包"
   ]
  },
  {
   "cell_type": "markdown",
   "metadata": {},
   "source": [
    "> 如果想掌握装饰器，那么必须理解闭包，即捕获函数主体外部定义的变量，也需要掌握 `nonlocal`"
   ]
  },
  {
   "cell_type": "markdown",
   "metadata": {},
   "source": [
    "- Python 如何求解装饰器句法\n",
    "- Python 如何判断变量是否为局部\n",
    "- 闭包存在的原因和工作原理\n",
    "- nonlocal 能解决什么问题\n",
    "- 实现行为良好的装饰器\n",
    "- 标准库中强大的装饰器：`@cache`, `@lru_cache`, `@singledispatch`;\n",
    "- 实现一个参数化装饰器"
   ]
  },
  {
   "cell_type": "markdown",
   "metadata": {},
   "source": [
    "## 装饰器的基础知识"
   ]
  },
  {
   "cell_type": "markdown",
   "metadata": {},
   "source": [
    "装饰器是一种可调用对象，其参数是另一个函数（被装饰的函数）\n",
    "装饰器可能会对被装饰的函数进行处理，然后返回函数，或者把函数替换为另一个函数/可调用对象"
   ]
  },
  {
   "cell_type": "markdown",
   "metadata": {},
   "source": [
    "假如有一个名为 decorate 的装饰器\n",
    "\n",
    "```python\n",
    "@decorate\n",
    "def target():\n",
    "    print('running target()')\n",
    "```"
   ]
  },
  {
   "cell_type": "markdown",
   "metadata": {},
   "source": [
    "那么效果等同于下面的写法\n",
    "\n",
    "```python\n",
    "def target():\n",
    "    print('running target()')\n",
    "\n",
    "target = decorate(target)\n",
    "```"
   ]
  },
  {
   "cell_type": "markdown",
   "metadata": {},
   "source": [
    "<mark>装饰器通常会把一个函数替换为另一个函数</mark>"
   ]
  },
  {
   "cell_type": "code",
   "execution_count": 1,
   "metadata": {},
   "outputs": [
    {
     "name": "stdout",
     "output_type": "stream",
     "text": [
      "running inner()\n"
     ]
    }
   ],
   "source": [
    "def deco(func):\n",
    "    def inner():\n",
    "        print('running inner()')\n",
    "    return inner\n",
    "\n",
    "@deco\n",
    "def target():\n",
    "    print('running target()')\n",
    "\n",
    "target()"
   ]
  },
  {
   "cell_type": "markdown",
   "metadata": {},
   "source": [
    "调用被装饰的 `target()`，运行的其实是 `inner`"
   ]
  },
  {
   "cell_type": "code",
   "execution_count": 2,
   "metadata": {},
   "outputs": [
    {
     "data": {
      "text/plain": [
       "<function __main__.deco.<locals>.inner()>"
      ]
     },
     "execution_count": 2,
     "metadata": {},
     "output_type": "execute_result"
    }
   ],
   "source": [
    "target"
   ]
  },
  {
   "cell_type": "markdown",
   "metadata": {},
   "source": [
    "查看对象，target 现在是 inner 的引用"
   ]
  },
  {
   "cell_type": "markdown",
   "metadata": {},
   "source": [
    "<mark>严格来说，装饰器只是语法糖。装饰器可以像常规的可调用对象那样调用，传入另一个函数</mark>"
   ]
  },
  {
   "cell_type": "markdown",
   "metadata": {},
   "source": [
    "**<span style=\"color:green\">装饰器有以下三个基本性质</span>**\n",
    "\n",
    "- 装饰器是一个函数或其他可调用对象\n",
    "\n",
    "- 装饰器可以把装饰的函数替换成别的函数\n",
    "\n",
    "- 装饰器在加载模块时立即执行"
   ]
  },
  {
   "cell_type": "markdown",
   "metadata": {},
   "source": [
    "## Python 何时执行装饰器"
   ]
  },
  {
   "cell_type": "markdown",
   "metadata": {},
   "source": [
    "> 装饰器的一个关键的性质是：<mark>装饰器在被装饰的函数定义之后立即运行</mark>，通常是在导入时（比如加载模块时）"
   ]
  },
  {
   "cell_type": "markdown",
   "metadata": {},
   "source": [
    "以下为一个示例 `registration.py`"
   ]
  },
  {
   "cell_type": "code",
   "execution_count": 3,
   "metadata": {},
   "outputs": [
    {
     "name": "stdout",
     "output_type": "stream",
     "text": [
      "running register(<function f1 at 0x107ef2a70>)\n",
      "running register(<function f2 at 0x107ef2b90>)\n",
      "running main()\n",
      "registry -> [<function f1 at 0x107ef2a70>, <function f2 at 0x107ef2b90>]\n",
      "running f1()\n",
      "running f2()\n",
      "running f3()\n"
     ]
    }
   ],
   "source": [
    "registry = []       # 保存被 @register 装饰的函数的引用\n",
    "\n",
    "def register(func):\n",
    "    print(f'running register({func})')      # 为了演示，显示被装饰的函数\n",
    "    registry.append(func)\n",
    "    return func\n",
    "\n",
    "@register\n",
    "def f1():\n",
    "    print('running f1()')\n",
    "\n",
    "@register\n",
    "def f2():\n",
    "    print('running f2()')\n",
    "\n",
    "def f3():\n",
    "    print('running f3()')\n",
    "\n",
    "\n",
    "def main():\n",
    "    print('running main()')\n",
    "    print('registry ->', registry)\n",
    "    f1()\n",
    "    f2()\n",
    "    f3()\n",
    "\n",
    "if __name__ == '__main__':\n",
    "    main()\n"
   ]
  },
  {
   "cell_type": "markdown",
   "metadata": {},
   "source": [
    "- `main()` 函数中首先显示 registry, 然后调用 f1(), f2(), f3()\n",
    "- 只有把上面的示例作为**脚本运行**时，才能调用 `main()`"
   ]
  },
  {
   "cell_type": "markdown",
   "metadata": {},
   "source": [
    "- 注意，register 在模块中其他函数之前运行了两次\n",
    "- 在调用 register 时，传给它的参数是被装饰的函数"
   ]
  },
  {
   "cell_type": "markdown",
   "metadata": {},
   "source": [
    "如果作为模块导入上面的文件，并不作为脚本运行，则输出如下的内容"
   ]
  },
  {
   "cell_type": "markdown",
   "metadata": {},
   "source": [
    "```python\n",
    ">>> import registration\n",
    "running register(<function f1 at 0x107ef2a70>)\n",
    "running register(<function f2 at 0x107ef2b90>)\n",
    "\n",
    "```"
   ]
  },
  {
   "cell_type": "markdown",
   "metadata": {},
   "source": [
    "<span style=\"color: green\">上面的示例想强调的是，函数装饰器在导入模块时立即执行，而被装饰的函数只在显示调用时运行 </span>"
   ]
  },
  {
   "cell_type": "markdown",
   "metadata": {},
   "source": [
    "## 注册装饰器"
   ]
  },
  {
   "cell_type": "markdown",
   "metadata": {},
   "source": [
    "- 装饰器通常在一个模块中定义，然后再应用到其他模块中的函数上\n",
    "- 大多数装饰器会在内部定义一个函数，然后将其返回"
   ]
  },
  {
   "cell_type": "markdown",
   "metadata": {},
   "source": [
    "<mark>大多数装饰器会更改被装饰的函数。 通常的做法是，返回在装饰器内部定义的函数，取代被装饰的函数。</mark>"
   ]
  },
  {
   "cell_type": "markdown",
   "metadata": {},
   "source": [
    "涉及内部函数的代码基本上离不开闭包，而理解闭包，需要熟悉Python中的变量作用域规则"
   ]
  },
  {
   "cell_type": "markdown",
   "metadata": {},
   "source": [
    "## 变量作用域规则"
   ]
  },
  {
   "cell_type": "markdown",
   "metadata": {},
   "source": [
    "看一个示例，关于全局变量和局部变量的"
   ]
  },
  {
   "cell_type": "code",
   "execution_count": 1,
   "metadata": {},
   "outputs": [],
   "source": [
    "b = 6\n",
    "def foo(a):\n",
    "    print(a)\n",
    "    print(b)\n",
    "    b = 9"
   ]
  },
  {
   "cell_type": "code",
   "execution_count": 2,
   "metadata": {},
   "outputs": [
    {
     "name": "stdout",
     "output_type": "stream",
     "text": [
      "3\n"
     ]
    },
    {
     "ename": "UnboundLocalError",
     "evalue": "local variable 'b' referenced before assignment",
     "output_type": "error",
     "traceback": [
      "\u001b[0;31m---------------------------------------------------------------------------\u001b[0m",
      "\u001b[0;31mUnboundLocalError\u001b[0m                         Traceback (most recent call last)",
      "Cell \u001b[0;32mIn[2], line 1\u001b[0m\n\u001b[0;32m----> 1\u001b[0m \u001b[43mfoo\u001b[49m\u001b[43m(\u001b[49m\u001b[38;5;241;43m3\u001b[39;49m\u001b[43m)\u001b[49m\n",
      "Cell \u001b[0;32mIn[1], line 4\u001b[0m, in \u001b[0;36mfoo\u001b[0;34m(a)\u001b[0m\n\u001b[1;32m      2\u001b[0m \u001b[38;5;28;01mdef\u001b[39;00m \u001b[38;5;21mfoo\u001b[39m(a):\n\u001b[1;32m      3\u001b[0m     \u001b[38;5;28mprint\u001b[39m(a)\n\u001b[0;32m----> 4\u001b[0m     \u001b[38;5;28mprint\u001b[39m(\u001b[43mb\u001b[49m)\n\u001b[1;32m      5\u001b[0m     b \u001b[38;5;241m=\u001b[39m \u001b[38;5;241m9\u001b[39m\n",
      "\u001b[0;31mUnboundLocalError\u001b[0m: local variable 'b' referenced before assignment"
     ]
    }
   ],
   "source": [
    "foo(3)"
   ]
  },
  {
   "cell_type": "markdown",
   "metadata": {},
   "source": [
    "如上所示，代码竟然报错了，报错信息为：`local variable 'b' referenced before assignment`\n",
    "并不如预期的首先打印 b 的值：6，然后将 b 赋值 9，因为 b 是全局变量，而且局部变量在打印之后才赋值"
   ]
  },
  {
   "cell_type": "markdown",
   "metadata": {},
   "source": [
    "<span style=\"color: green\">Python 编译函数主体时，判断 b 是局部变量，因为在函数内给它赋值了。生成的字节码证实了这种判断</span>\n"
   ]
  },
  {
   "cell_type": "markdown",
   "metadata": {},
   "source": [
    "所以，Python会尝试从局部作用域中获取 b。调用 foo(3) 时，foo 的主体顺利获取并打印了局部变量 a 的值，但是尝试获取局部变量 b 的值时，发现 b 没有绑定值"
   ]
  },
  {
   "cell_type": "markdown",
   "metadata": {},
   "source": [
    "> 在函数中赋值时，如果想让解释器把 b 当作全局变量，为它分配一个新值，就要使用 global 声明"
   ]
  },
  {
   "cell_type": "code",
   "execution_count": 1,
   "metadata": {},
   "outputs": [],
   "source": [
    "b = 6\n",
    "def foo(a):\n",
    "    global b\n",
    "    print(a)\n",
    "    print(b)\n",
    "    b = 9"
   ]
  },
  {
   "cell_type": "code",
   "execution_count": 2,
   "metadata": {},
   "outputs": [
    {
     "name": "stdout",
     "output_type": "stream",
     "text": [
      "3\n",
      "6\n"
     ]
    }
   ],
   "source": [
    "foo(3)"
   ]
  },
  {
   "cell_type": "code",
   "execution_count": 3,
   "metadata": {},
   "outputs": [
    {
     "name": "stdout",
     "output_type": "stream",
     "text": [
      "9\n"
     ]
    }
   ],
   "source": [
    "print(b)"
   ]
  },
  {
   "cell_type": "markdown",
   "metadata": {},
   "source": [
    "变量可能出现在三种作用域中\n",
    "- 全局作用域\n",
    "- 局部作用域\n",
    "-  “非局部”作用域，这个作用域时闭包的基础"
   ]
  },
  {
   "cell_type": "code",
   "execution_count": 4,
   "metadata": {},
   "outputs": [
    {
     "name": "stdout",
     "output_type": "stream",
     "text": [
      "  4           0 LOAD_GLOBAL              0 (print)\n",
      "              2 LOAD_FAST                0 (a)\n",
      "              4 CALL_FUNCTION            1\n",
      "              6 POP_TOP\n",
      "\n",
      "  5           8 LOAD_GLOBAL              0 (print)\n",
      "             10 LOAD_GLOBAL              1 (b)\n",
      "             12 CALL_FUNCTION            1\n",
      "             14 POP_TOP\n",
      "\n",
      "  6          16 LOAD_CONST               1 (9)\n",
      "             18 STORE_GLOBAL             1 (b)\n",
      "             20 LOAD_CONST               0 (None)\n",
      "             22 RETURN_VALUE\n"
     ]
    }
   ],
   "source": [
    "from dis import dis\n",
    "dis(foo)"
   ]
  },
  {
   "cell_type": "markdown",
   "metadata": {},
   "source": [
    "上面的反汇编示例\n",
    "\n",
    "首先加载全局名称 print\n",
    "\n",
    "加载局部名称 a\n",
    "\n",
    "加载全局名称 b"
   ]
  },
  {
   "cell_type": "markdown",
   "metadata": {},
   "source": [
    "## 闭包"
   ]
  },
  {
   "cell_type": "markdown",
   "metadata": {},
   "source": [
    "闭包是延伸了作用域的函数，包括函数主体 f 中引用的非全局变量和局部变量。\n",
    "\n",
    "这些变量必须来自函数 f 的外部函数的局部作用域"
   ]
  },
  {
   "cell_type": "markdown",
   "metadata": {},
   "source": [
    "如果有一个函数作用是去计算不断增加系列的平均值，例如，计算整个历史中某个商品的平均收盘价\n",
    "新价格每天都在增加，因此计算平均值要考虑目前为止的所有价格"
   ]
  },
  {
   "cell_type": "markdown",
   "metadata": {},
   "source": [
    "可以看看 avg 函数的用法\n",
    "\n",
    "```python\n",
    ">>>avg(10)\n",
    "10.0\n",
    ">>>avg(11)\n",
    "10.5\n",
    ">>>avg(12)\n",
    "11.0\n",
    "\n",
    "```"
   ]
  },
  {
   "cell_type": "markdown",
   "metadata": {},
   "source": [
    "一种比较简单的方式使用基于类的实现"
   ]
  },
  {
   "cell_type": "markdown",
   "metadata": {},
   "source": [
    "average_oo.py 一个计算累计平均值的类"
   ]
  },
  {
   "cell_type": "code",
   "execution_count": 1,
   "metadata": {
    "tags": [
     "average_oo.py"
    ]
   },
   "outputs": [],
   "source": [
    "class Averager():\n",
    "    def __init__(self):\n",
    "        self.series = []\n",
    "        \n",
    "    def __call__(self, new_value):\n",
    "        self.series.append(new_value)\n",
    "        total = sum(self.series)\n",
    "        return total / len(self.series)\n"
   ]
  },
  {
   "cell_type": "code",
   "execution_count": 2,
   "metadata": {},
   "outputs": [
    {
     "name": "stdout",
     "output_type": "stream",
     "text": [
      "10.0\n",
      "10.5\n",
      "11.0\n"
     ]
    }
   ],
   "source": [
    "avg = Averager()\n",
    "\n",
    "res1 = avg(10)\n",
    "print(res1)\n",
    "\n",
    "res2 = avg(11)\n",
    "print(res2)\n",
    "\n",
    "res3 = avg(12)\n",
    "print(res3)"
   ]
  },
  {
   "cell_type": "markdown",
   "metadata": {},
   "source": [
    "下面这个是函数式实现，使用了高阶函数 `make_averager`"
   ]
  },
  {
   "cell_type": "markdown",
   "metadata": {},
   "source": [
    "averager.py 一个计算累计平均值的高阶函数"
   ]
  },
  {
   "cell_type": "code",
   "execution_count": 3,
   "metadata": {},
   "outputs": [],
   "source": [
    "def make_averager():\n",
    "    series = []\n",
    "    \n",
    "    def averager(new_value):\n",
    "        series.append(new_value)\n",
    "        total = sum(series)\n",
    "        return total / len(series)\n",
    "    \n",
    "    return averager"
   ]
  },
  {
   "cell_type": "markdown",
   "metadata": {},
   "source": [
    "调用 make_averager, 返回一个 averager 函数对象。每次调用，averager 都会把参数添加到系列值中，然后计算当前平均值，如下所示"
   ]
  },
  {
   "cell_type": "code",
   "execution_count": 4,
   "metadata": {},
   "outputs": [
    {
     "name": "stdout",
     "output_type": "stream",
     "text": [
      "10.0\n",
      "10.5\n",
      "11.0\n"
     ]
    }
   ],
   "source": [
    "avg = make_averager()\n",
    "\n",
    "res1 = avg(10)\n",
    "print(res1)\n",
    "\n",
    "res2 = avg(11)\n",
    "print(res2)\n",
    "\n",
    "res3 = avg(12)\n",
    "print(res3)"
   ]
  },
  {
   "cell_type": "markdown",
   "metadata": {},
   "source": [
    "上面两个示例有相似之处，调用 Averager() 或 make_averager() 得到一个可调用对象 avg，他会更新历史值，然后计算当前平均值。"
   ]
  },
  {
   "cell_type": "markdown",
   "metadata": {},
   "source": [
    "第一个示例中，avg 是 Averager 类的实例；\n",
    "\n",
    "第二个示例中，avg 是内部函数 averager\n",
    "\n",
    "在第二个示例中，avg 在哪里寻找 series 呢？\n",
    "\n",
    "series 是 make_averager 函数的局部变量，因为赋值语句 series = [] 在 make_averager 函数的主体中，但是，调用 avg(10) 时，make_averager 函数已经返回，局部作用域早就没了\n",
    "\n",
    "如下图所示，在 averager 函数中，series 是自由变量，自由变量是一个术语，指未在局部作用域中绑定的变量。"
   ]
  },
  {
   "cell_type": "markdown",
   "metadata": {},
   "source": [
    "![averager](./assets/ch09/free-var.png)"
   ]
  },
  {
   "cell_type": "markdown",
   "metadata": {},
   "source": [
    "averager 函数的闭包延伸到自身的作用域之外，包含自由变量 series 的绑定"
   ]
  },
  {
   "cell_type": "markdown",
   "metadata": {},
   "source": [
    "查看返回的 averager 对象，在 __code__ 属性（编译后的函数主体）保存着局部变量和自由变量的名称"
   ]
  },
  {
   "cell_type": "code",
   "execution_count": 5,
   "metadata": {},
   "outputs": [
    {
     "name": "stdout",
     "output_type": "stream",
     "text": [
      "('new_value', 'total')\n",
      "('series',)\n"
     ]
    }
   ],
   "source": [
    "varnames = avg.__code__.co_varnames\n",
    "print(varnames)\n",
    "\n",
    "freevars = avg.__code__.co_freevars\n",
    "print(freevars)"
   ]
  },
  {
   "cell_type": "markdown",
   "metadata": {},
   "source": [
    "series 的值在返回的 avg 函数的 `__closure__` 属性中。`avg.__closure__` 中的各项对应 `avg.__code__.co_freevars` 中的一个名称。这些项是 cell 对象，有一个名为 cell_contents 的属性，保存着真正的值"
   ]
  },
  {
   "cell_type": "code",
   "execution_count": 6,
   "metadata": {},
   "outputs": [
    {
     "name": "stdout",
     "output_type": "stream",
     "text": [
      "('series',)\n",
      "(<cell at 0x1061b14e0: list object at 0x1061c8040>,)\n",
      "[10, 11, 12]\n"
     ]
    }
   ],
   "source": [
    "freevars = avg.__code__.co_freevars\n",
    "print(freevars)\n",
    "\n",
    "closure = avg.__closure__\n",
    "print(closure)\n",
    "\n",
    "rel_val = avg.__closure__[0].cell_contents\n",
    "print(rel_val)"
   ]
  },
  {
   "cell_type": "markdown",
   "metadata": {},
   "source": [
    "<mark>闭包是一个函数，保留着定义函数时存在的自由变量的绑定</mark>\n",
    "\n",
    "如此以来，调用函数时，虽然定义作用域不可用了，但是仍可以使用那些绑定"
   ]
  },
  {
   "cell_type": "markdown",
   "metadata": {},
   "source": [
    "<mark>注意，只有嵌套在其他函数中的函数才可能需要处理不在全局作用域中的外部变量，这些外部变量位于外层函数的局部作用域内</mark>"
   ]
  },
  {
   "cell_type": "markdown",
   "metadata": {},
   "source": [
    "## nonlocal 声明"
   ]
  },
  {
   "cell_type": "markdown",
   "metadata": {},
   "source": [
    "前面实现的 make_averager 函数的方法效率不高，我们把所有值存储在历史数列中，然后在每次调用 averager 时使用 sum 求和，更好的实现方式是，只存储目前的总值和项数，根据这两个数计算平均值"
   ]
  },
  {
   "cell_type": "markdown",
   "metadata": {},
   "source": [
    "下面是一个有缺陷的实现方式"
   ]
  },
  {
   "cell_type": "code",
   "execution_count": 7,
   "metadata": {},
   "outputs": [],
   "source": [
    "def make_averager():\n",
    "    count = 0\n",
    "    total = 0\n",
    "    \n",
    "    def averager(new_value):\n",
    "        count += 1\n",
    "        total += new_value\n",
    "        return total / count\n",
    "    \n",
    "    return averager"
   ]
  },
  {
   "cell_type": "markdown",
   "metadata": {},
   "source": [
    "调用之后，运行效果如下"
   ]
  },
  {
   "cell_type": "code",
   "execution_count": 8,
   "metadata": {},
   "outputs": [
    {
     "ename": "UnboundLocalError",
     "evalue": "cannot access local variable 'count' where it is not associated with a value",
     "output_type": "error",
     "traceback": [
      "\u001b[0;31m---------------------------------------------------------------------------\u001b[0m",
      "\u001b[0;31mUnboundLocalError\u001b[0m                         Traceback (most recent call last)",
      "Cell \u001b[0;32mIn[8], line 3\u001b[0m\n\u001b[1;32m      1\u001b[0m avg \u001b[38;5;241m=\u001b[39m make_averager()\n\u001b[0;32m----> 3\u001b[0m res \u001b[38;5;241m=\u001b[39m avg(\u001b[38;5;241m10\u001b[39m); \u001b[38;5;28mprint\u001b[39m(res)\n",
      "Cell \u001b[0;32mIn[7], line 6\u001b[0m, in \u001b[0;36mmake_averager.<locals>.averager\u001b[0;34m(new_value)\u001b[0m\n\u001b[1;32m      5\u001b[0m \u001b[38;5;28;01mdef\u001b[39;00m \u001b[38;5;21maverager\u001b[39m(new_value):\n\u001b[0;32m----> 6\u001b[0m     \u001b[43mcount\u001b[49m \u001b[38;5;241m+\u001b[39m\u001b[38;5;241m=\u001b[39m \u001b[38;5;241m1\u001b[39m\n\u001b[1;32m      7\u001b[0m     total \u001b[38;5;241m+\u001b[39m\u001b[38;5;241m=\u001b[39m new_value\n\u001b[1;32m      8\u001b[0m     \u001b[38;5;28;01mreturn\u001b[39;00m total \u001b[38;5;241m/\u001b[39m count\n",
      "\u001b[0;31mUnboundLocalError\u001b[0m: cannot access local variable 'count' where it is not associated with a value"
     ]
    }
   ],
   "source": [
    "avg = make_averager()\n",
    "\n",
    "res = avg(10); print(res)"
   ]
  },
  {
   "cell_type": "markdown",
   "metadata": {},
   "source": [
    "报错信息提示：无法访问本地变量 count，因为他没有关联一个值\n",
    "\n",
    "实际上，我们在 averager 的主体中为 count 赋值了，这会把 count 变为局部变量，total 变量也是相同的问题\n",
    "\n",
    "而之前的类实现没有此问题是因为，没有给 series 赋值，只是调用了 series.append, 并把它传给了 sum 和 len。即利用了 **列表是可变对象**的特性\n",
    "\n",
    "但是，数值，字符串，元组等不可变类型只能读取，不能更新。\n",
    "\n",
    "如果像 count += 1, 这其实会尝试重新绑定，会隐式创建局部变量 count。这样，count 不是自由变量，也就不会保存在闭包中。"
   ]
  },
  {
   "cell_type": "markdown",
   "metadata": {},
   "source": [
    "为了解决这个问题，Python3 引入了 nolocal 关键字，作用是把变量标记为**自由变量**，即使在函数中为变量赋予了新值，闭包中保存的绑定也会随之更新"
   ]
  },
  {
   "cell_type": "markdown",
   "metadata": {},
   "source": [
    "下面的示例使用 nonlocal 进行修正"
   ]
  },
  {
   "cell_type": "code",
   "execution_count": 9,
   "metadata": {},
   "outputs": [],
   "source": [
    "def make_averager():\n",
    "    count = 0\n",
    "    total = 0\n",
    "    \n",
    "    def averager(new_value):\n",
    "        nonlocal count, total\n",
    "        count += 1\n",
    "        total += new_value\n",
    "        return total / count\n",
    "    \n",
    "    return averager\n"
   ]
  },
  {
   "cell_type": "code",
   "execution_count": 10,
   "metadata": {},
   "outputs": [
    {
     "name": "stdout",
     "output_type": "stream",
     "text": [
      "10.0\n",
      "10.5\n"
     ]
    }
   ],
   "source": [
    "avg = make_averager()\n",
    "\n",
    "res1 = avg(10); print(res1)\n",
    "res2 = avg(11); print(res2) "
   ]
  },
  {
   "cell_type": "markdown",
   "metadata": {},
   "source": [
    "可以看到正常运行，学会使用 nonlocal 之后，来总结一下 Python 查找变量的方式"
   ]
  },
  {
   "cell_type": "markdown",
   "metadata": {},
   "source": [
    "<mark>变量查找逻辑</mark>"
   ]
  },
  {
   "cell_type": "markdown",
   "metadata": {},
   "source": [
    "Python 字节码编译器根据以下规则获取函数主体中出现的变量 x\n",
    "- 如果是 `global x` 声明，则 x 来自模块全局作用域，并赋予那个作用域中 x 的值\n",
    "- 如果是 `nonlocal x` 声明，则 x 来自最近一个定义它的外层函数，并赋予那个函数局部变量 x 的值\n",
    "- 如果 x 是参数，或者在函数主体中赋了值，那么 x 就是局部变量\n",
    "- 如果引用了 x，但是没有赋值也不是参数，则遵循以下规则\n",
    "  - 在外层函数主体的局部作用域内查找 x\n",
    "  - 如果在外层作用域内未找到，则从模块全局作用域内读取\n",
    "  - 如果在模块全局作用域内未找到，则从 `__builtins__.__dict__` 中读取"
   ]
  },
  {
   "cell_type": "markdown",
   "metadata": {},
   "source": [
    "## 实现一个简单的装饰器"
   ]
  },
  {
   "cell_type": "markdown",
   "metadata": {},
   "source": [
    "下面定义了一个装饰器，该装饰器会在每次调用被装饰的函数时计时，把运行时间，传入的参数和调用的结果打印出来"
   ]
  },
  {
   "cell_type": "markdown",
   "metadata": {},
   "source": [
    "clockdeco0.py: 一个会显示函数运行时间的简单的装饰器"
   ]
  },
  {
   "cell_type": "code",
   "execution_count": 11,
   "metadata": {},
   "outputs": [],
   "source": [
    "import time\n",
    "\n",
    "def clock(func):\n",
    "    def clocked(*args):     # 定义内部函数 clocked，它接受任意个位置参数\n",
    "        t0 = time.perf_counter()\n",
    "        result = func(*args)    # 这行代码有效，是因为 clocked 的闭包中包含自由变量 func\n",
    "        elapsed = time.perf_counter() - t0\n",
    "        name = func.__name__\n",
    "        arg_str = ', '.join(repr(arg) for arg in args)\n",
    "        print(f'[{elapsed:0.8f}] {name}({arg_str}) -> {result!r}')\n",
    "        return result\n",
    "    \n",
    "    return clocked\n"
   ]
  },
  {
   "cell_type": "markdown",
   "metadata": {},
   "source": [
    "使用 clock 装饰器"
   ]
  },
  {
   "cell_type": "code",
   "execution_count": 13,
   "metadata": {},
   "outputs": [
    {
     "name": "stdout",
     "output_type": "stream",
     "text": [
      "**************************************** Calling snooze(.123)\n",
      "[0.12727725] snooze(0.123) -> None\n",
      "**************************************** Calling factorial(6)\n",
      "[0.00000050] factorial(1) -> 1\n",
      "[0.00001133] factorial(2) -> 2\n",
      "[0.00001908] factorial(3) -> 6\n",
      "[0.00002758] factorial(4) -> 24\n",
      "[0.00003525] factorial(5) -> 120\n",
      "[0.00004371] factorial(6) -> 720\n",
      "6! = 720\n"
     ]
    }
   ],
   "source": [
    "import time\n",
    "\n",
    "\n",
    "@clock\n",
    "def snooze(seconds):\n",
    "    time.sleep(seconds)\n",
    "\n",
    "\n",
    "@clock\n",
    "def factorial(n):\n",
    "    return 1 if n < 2 else n * factorial(n-1)\n",
    "\n",
    "if __name__ == '__main__':\n",
    "    print('*' * 40, 'Calling snooze(.123)')\n",
    "    snooze(.123)\n",
    "    print('*' * 40, 'Calling factorial(6)')\n",
    "    print('6! =', factorial(6))"
   ]
  },
  {
   "cell_type": "markdown",
   "metadata": {},
   "source": [
    "<mark>工作原理</mark>"
   ]
  },
  {
   "cell_type": "markdown",
   "metadata": {},
   "source": [
    "如前所述，以下内容\n",
    "\n",
    "```python\n",
    "@clock\n",
    "def factorial(n):\n",
    "    return 1 if n < 2 else n*factorial(n-1)\n",
    "\n",
    "```\n",
    "其实等价于以下内容\n",
    "\n",
    "```python\n",
    "def factorial(n):\n",
    "    return 1 if n < 2 else n * factorial(n-1)\n",
    "\n",
    "\n",
    "factorial = clock(factorial)\n",
    "```\n"
   ]
  },
  {
   "cell_type": "markdown",
   "metadata": {},
   "source": [
    "也就是说，在这两种情况下，factorial 函数都作为 func 参数传递给 clock 函数，clock 函数返回 clocked 函数，然后 Python 解释器把 clocked 赋值给 factorial \n",
    "\n",
    "factorial 保存的其实是 clocked 函数的引用。\n",
    "\n",
    "自此以后，每次调用 factorial(n) 执行的都是 `clocked(n)`\n",
    "\n",
    "clocked 大致做了下面几件事\n",
    "- 记录初始时间 t0\n",
    "- 调用原来的 factorial 函数，保存结果\n",
    "- 计算运行时间\n",
    "- 格式化收集的数据，然后打印出来\n",
    "- 返回第二步保存的结果"
   ]
  },
  {
   "cell_type": "markdown",
   "metadata": {},
   "source": [
    "<span style=\"color:green\">这是装饰器的典型行为：</span>把被装饰的函数替换为新函数，新函数接受的参数与被装饰的函数一样，而且（通常）会返回被装饰的函数本该返回的值，同时还会做一些额外操作"
   ]
  },
  {
   "cell_type": "markdown",
   "metadata": {},
   "source": [
    "上面实现的装饰器存在几个缺点：\n",
    "- 不支持关键字参数\n",
    "- 遮盖了被装饰函数的 `__name__` `__doc__` 属性\n",
    "\n",
    "<mark>下面示例使用 `functions.wraps`装饰器把相关的属性从 func 身上复制到了 clocked 中</mark>"
   ]
  },
  {
   "cell_type": "markdown",
   "metadata": {},
   "source": [
    "clockdeco.py: 改进后的 clock 装饰器"
   ]
  },
  {
   "cell_type": "code",
   "execution_count": 15,
   "metadata": {},
   "outputs": [],
   "source": [
    "import time\n",
    "from functools import wraps\n",
    "\n",
    "def clock(func):\n",
    "    @wraps(func)\n",
    "    def clocked(*args, **kwargs):\n",
    "        t0 = time.perf_counter()\n",
    "        result = func(*args, **kwargs)\n",
    "        elapsed = time.perf_counter() - t0\n",
    "        name = func.__name__\n",
    "        arg_lst = [repr(arg) for arg in args]\n",
    "        arg_lst.extend(f'{k}={v!r}' for k,v in kwargs.items())\n",
    "        arg_str = ', '.join(arg_lst)\n",
    "        print(f'[{elapsed:0.8f}] {name}({arg_str}) -> {result!r}')\n",
    "        return result\n",
    "    \n",
    "    return clocked\n"
   ]
  },
  {
   "cell_type": "markdown",
   "metadata": {},
   "source": [
    "`functools.wraps` 只是标准库中开箱即用的装饰器之一"
   ]
  },
  {
   "cell_type": "markdown",
   "metadata": {},
   "source": [
    "## 标准库中的装饰器"
   ]
  },
  {
   "cell_type": "markdown",
   "metadata": {},
   "source": [
    "Python 内置了 3 个用于装饰方法的函数: `property`、`classmethod` 和 `staticmethod`。\n",
    "\n",
    "- `functools.wraps` 的作用是协助构建行为良好的装饰器\n",
    "- 标准库中最吸引人的几个装饰器\n",
    "  - `cache`\n",
    "  - `lru_cache`\n",
    "  - `singledispatch`"
   ]
  },
  {
   "cell_type": "markdown",
   "metadata": {},
   "source": [
    "### 使用 functools.cache 做备忘"
   ]
  },
  {
   "cell_type": "markdown",
   "metadata": {},
   "source": [
    "它是一项优化技术，能把耗时的函数得到的结果保存起来，避免传入相同的参数时重复计算"
   ]
  },
  {
   "cell_type": "markdown",
   "metadata": {},
   "source": [
    "> `functools.cache`是 Python3.9 新增的，如果想使用低版本，需要把 `@cache` 换成 `@lru_cache`"
   ]
  },
  {
   "cell_type": "code",
   "execution_count": 16,
   "metadata": {},
   "outputs": [
    {
     "name": "stdout",
     "output_type": "stream",
     "text": [
      "[0.00000042] fibonacci(0) -> 0\n",
      "[0.00000033] fibonacci(1) -> 1\n",
      "[0.00003871] fibonacci(2) -> 1\n",
      "[0.00000046] fibonacci(3) -> 2\n",
      "[0.00004858] fibonacci(4) -> 3\n",
      "[0.00000042] fibonacci(5) -> 5\n",
      "[0.00005758] fibonacci(6) -> 8\n",
      "8\n"
     ]
    }
   ],
   "source": [
    "from functools import cache\n",
    "\n",
    "@cache  # 需要 Python 3.9 及以上\n",
    "@clock  # 这里叠放了装饰器，@cache 会应用到 @clock 返回的函数上\n",
    "def fibonacci(n):\n",
    "    if n < 2:\n",
    "        return n\n",
    "    return fibonacci(n-2) + fibonacci(n-1)\n",
    "\n",
    "if __name__ == '__main__':\n",
    "    print(fibonacci(6))"
   ]
  },
  {
   "cell_type": "markdown",
   "metadata": {},
   "source": [
    "<mark>叠放装饰器</mark>\n",
    "\n",
    "如果想理解叠放装饰器，需要记住一点:\n",
    "<span style=\"color:green\"> `@` 是一种语法糖，其作用是把装饰器函数应用到下面的函数上 </span>\n",
    "\n",
    "多个装饰器的行为就像调用嵌套函数一样。\n",
    "\n",
    "```python\n",
    "@alpha\n",
    "@beta\n",
    "def my_fn():\n",
    "    ...\n",
    "```\n",
    "\n",
    "等同于以下内容\n",
    "\n",
    "```python\n",
    "my_fn = alpha(beta(my_fn))\n",
    "```"
   ]
  },
  {
   "cell_type": "markdown",
   "metadata": {},
   "source": [
    "也就是说，首先应用 beta 装饰器，然后再把返回的函数传给 alpha"
   ]
  },
  {
   "cell_type": "markdown",
   "metadata": {},
   "source": [
    "<mark>被装饰的函数所接受的参数必须克哈希，因为底层 lru_cache 使用 dict 存储结果，字典的键取自传入的位置参数和关键字参数</mark>\n",
    "\n",
    "除了优化递归算法，@cache 在从远程 API 中获取信息的应用程序中也能发挥巨大作用"
   ]
  },
  {
   "cell_type": "markdown",
   "metadata": {},
   "source": [
    "<span style=\"color:green\"> 如果缓存较大，则 `functools.cache` 有可能耗尽所有可用内存 </span>\n",
    "\n",
    "`@cache` 更适合短期运行的命令行脚本使用，对于长期运行的进程，推荐使用 `functools.lru_cache`，并合理设置 maxsize 参数"
   ]
  },
  {
   "cell_type": "markdown",
   "metadata": {},
   "source": [
    "---"
   ]
  },
  {
   "cell_type": "markdown",
   "metadata": {},
   "source": [
    "### 使用 lru_cache"
   ]
  },
  {
   "cell_type": "markdown",
   "metadata": {},
   "source": [
    "`functools.cache` 装饰器只是对较旧的 `functools.lru_cache` 函数的简单包装。\n",
    "`functools.cache` 更加灵活，而且兼容旧版本"
   ]
  },
  {
   "cell_type": "markdown",
   "metadata": {},
   "source": [
    "@lru_cache 的主要优势是可以通过 maxsize 参数限制内存用量上限。maxsize 参数的默认值相当保守，只有 128，即缓存最多只能有 128 条。"
   ]
  },
  {
   "cell_type": "markdown",
   "metadata": {},
   "source": [
    "从 3.8 开始，lru_cache 有两种使用方法\n",
    "\n",
    "```python\n",
    "@lru_cache\n",
    "def costly_func(a, b):\n",
    "    ...\n",
    "\n",
    "```\n",
    "\n",
    "另一种方式是从 3.2 开始支持的加上 () 作为函数调用\n",
    "\n",
    "```python\n",
    "@lru_cache()\n",
    "def costly_func(a, b):\n",
    "    ...\n",
    "\n",
    "```"
   ]
  },
  {
   "cell_type": "markdown",
   "metadata": {},
   "source": [
    "两种用法都采用以下默认参数：\n",
    "- maxsize=128\n",
    "- typed=False"
   ]
  },
  {
   "cell_type": "markdown",
   "metadata": {},
   "source": [
    "第一个可以设定存储多少条目，缓存满了之后，最不常用的条目会被丢弃，为新条目腾出空间，为了得到最佳性能，应该将 maxsize 设置为 2 的次方，如果传入 maxsize=None，则 LRU 将被彻底禁用，因此缓存速度更快，条目永远不会被丢弃，可能消耗过多内存，如 `functools.cache`"
   ]
  },
  {
   "cell_type": "markdown",
   "metadata": {},
   "source": [
    "typed 参数决定是否把不同参数类型得到的结果分开保存，默认情况下，不分开，比如调用 f(1) 和 f(1.0) 被认为是调用一个缓存条目，若设为 typed=True，则不同的条目中存储可能不一样的结果"
   ]
  },
  {
   "cell_type": "markdown",
   "metadata": {},
   "source": [
    "```python\n",
    "@lru_cache(maxsize=2**20, typed=True)\n",
    "def costly_func(a, b):\n",
    "    ...\n",
    "\n",
    "```"
   ]
  },
  {
   "cell_type": "markdown",
   "metadata": {},
   "source": [
    "### 单分派泛化函数"
   ]
  },
  {
   "cell_type": "markdown",
   "metadata": {},
   "source": []
  }
 ],
 "metadata": {
  "kernelspec": {
   "display_name": "Python 3",
   "language": "python",
   "name": "python3"
  },
  "language_info": {
   "codemirror_mode": {
    "name": "ipython",
    "version": 3
   },
   "file_extension": ".py",
   "mimetype": "text/x-python",
   "name": "python",
   "nbconvert_exporter": "python",
   "pygments_lexer": "ipython3",
   "version": "3.11.1"
  }
 },
 "nbformat": 4,
 "nbformat_minor": 2
}
